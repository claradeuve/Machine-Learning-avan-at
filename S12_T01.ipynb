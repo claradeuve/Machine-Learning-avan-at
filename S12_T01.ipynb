{
 "cells": [
  {
   "cell_type": "markdown",
   "id": "d4dc11c4",
   "metadata": {},
   "source": [
    "## Exercici 1\n",
    "Agafa el conjunt de dades que vulguis i realitza un pipeline i un gridsearch aplicant l'algorisme de Random Forest."
   ]
  },
  {
   "cell_type": "code",
   "execution_count": 130,
   "id": "d27c7a5b",
   "metadata": {},
   "outputs": [
    {
     "data": {
      "text/html": [
       "<div>\n",
       "<style scoped>\n",
       "    .dataframe tbody tr th:only-of-type {\n",
       "        vertical-align: middle;\n",
       "    }\n",
       "\n",
       "    .dataframe tbody tr th {\n",
       "        vertical-align: top;\n",
       "    }\n",
       "\n",
       "    .dataframe thead th {\n",
       "        text-align: right;\n",
       "    }\n",
       "</style>\n",
       "<table border=\"1\" class=\"dataframe\">\n",
       "  <thead>\n",
       "    <tr style=\"text-align: right;\">\n",
       "      <th></th>\n",
       "      <th>Unnamed: 0</th>\n",
       "      <th>altitude</th>\n",
       "      <th>date_time</th>\n",
       "      <th>device_info_serial</th>\n",
       "      <th>direction</th>\n",
       "      <th>latitude</th>\n",
       "      <th>longitude</th>\n",
       "      <th>speed_2d</th>\n",
       "      <th>bird_name</th>\n",
       "    </tr>\n",
       "  </thead>\n",
       "  <tbody>\n",
       "    <tr>\n",
       "      <th>0</th>\n",
       "      <td>0</td>\n",
       "      <td>71</td>\n",
       "      <td>2013-08-15 00:18:08+00</td>\n",
       "      <td>851</td>\n",
       "      <td>-150.469753</td>\n",
       "      <td>49.419860</td>\n",
       "      <td>2.120733</td>\n",
       "      <td>0.150000</td>\n",
       "      <td>Eric</td>\n",
       "    </tr>\n",
       "    <tr>\n",
       "      <th>1</th>\n",
       "      <td>1</td>\n",
       "      <td>68</td>\n",
       "      <td>2013-08-15 00:48:07+00</td>\n",
       "      <td>851</td>\n",
       "      <td>-136.151141</td>\n",
       "      <td>49.419880</td>\n",
       "      <td>2.120746</td>\n",
       "      <td>2.438360</td>\n",
       "      <td>Eric</td>\n",
       "    </tr>\n",
       "    <tr>\n",
       "      <th>2</th>\n",
       "      <td>2</td>\n",
       "      <td>68</td>\n",
       "      <td>2013-08-15 01:17:58+00</td>\n",
       "      <td>851</td>\n",
       "      <td>160.797477</td>\n",
       "      <td>49.420310</td>\n",
       "      <td>2.120885</td>\n",
       "      <td>0.596657</td>\n",
       "      <td>Eric</td>\n",
       "    </tr>\n",
       "    <tr>\n",
       "      <th>3</th>\n",
       "      <td>3</td>\n",
       "      <td>73</td>\n",
       "      <td>2013-08-15 01:47:51+00</td>\n",
       "      <td>851</td>\n",
       "      <td>32.769360</td>\n",
       "      <td>49.420359</td>\n",
       "      <td>2.120859</td>\n",
       "      <td>0.310161</td>\n",
       "      <td>Eric</td>\n",
       "    </tr>\n",
       "    <tr>\n",
       "      <th>4</th>\n",
       "      <td>4</td>\n",
       "      <td>69</td>\n",
       "      <td>2013-08-15 02:17:42+00</td>\n",
       "      <td>851</td>\n",
       "      <td>45.191230</td>\n",
       "      <td>49.420331</td>\n",
       "      <td>2.120887</td>\n",
       "      <td>0.193132</td>\n",
       "      <td>Eric</td>\n",
       "    </tr>\n",
       "  </tbody>\n",
       "</table>\n",
       "</div>"
      ],
      "text/plain": [
       "   Unnamed: 0  altitude               date_time  device_info_serial  \\\n",
       "0           0        71  2013-08-15 00:18:08+00                 851   \n",
       "1           1        68  2013-08-15 00:48:07+00                 851   \n",
       "2           2        68  2013-08-15 01:17:58+00                 851   \n",
       "3           3        73  2013-08-15 01:47:51+00                 851   \n",
       "4           4        69  2013-08-15 02:17:42+00                 851   \n",
       "\n",
       "    direction   latitude  longitude  speed_2d bird_name  \n",
       "0 -150.469753  49.419860   2.120733  0.150000      Eric  \n",
       "1 -136.151141  49.419880   2.120746  2.438360      Eric  \n",
       "2  160.797477  49.420310   2.120885  0.596657      Eric  \n",
       "3   32.769360  49.420359   2.120859  0.310161      Eric  \n",
       "4   45.191230  49.420331   2.120887  0.193132      Eric  "
      ]
     },
     "metadata": {},
     "output_type": "display_data"
    },
    {
     "name": "stdout",
     "output_type": "stream",
     "text": [
      "<class 'pandas.core.frame.DataFrame'>\n",
      "RangeIndex: 61920 entries, 0 to 61919\n",
      "Data columns (total 9 columns):\n",
      " #   Column              Non-Null Count  Dtype  \n",
      "---  ------              --------------  -----  \n",
      " 0   Unnamed: 0          61920 non-null  int64  \n",
      " 1   altitude            61920 non-null  int64  \n",
      " 2   date_time           61920 non-null  object \n",
      " 3   device_info_serial  61920 non-null  int64  \n",
      " 4   direction           61477 non-null  float64\n",
      " 5   latitude            61920 non-null  float64\n",
      " 6   longitude           61920 non-null  float64\n",
      " 7   speed_2d            61477 non-null  float64\n",
      " 8   bird_name           61920 non-null  object \n",
      "dtypes: float64(4), int64(3), object(2)\n",
      "memory usage: 4.3+ MB\n"
     ]
    }
   ],
   "source": [
    "import pandas as pd\n",
    "import numpy as np\n",
    "\n",
    "df_birds = pd.read_csv(\"bird_migration.csv\")\n",
    "\n",
    "display(df_birds.head())\n",
    "df_birds.info()"
   ]
  },
  {
   "cell_type": "markdown",
   "id": "4e58144c",
   "metadata": {},
   "source": [
    "La columna Unnamed:0 es como un Id, así que no nos aporta información."
   ]
  },
  {
   "cell_type": "code",
   "execution_count": 131,
   "id": "1f8c92c6",
   "metadata": {},
   "outputs": [],
   "source": [
    "df_birds = df_birds.drop(columns = ['Unnamed: 0'])"
   ]
  },
  {
   "cell_type": "markdown",
   "id": "6caf5ed3",
   "metadata": {},
   "source": [
    "Compruebo la existencia de valores nulos"
   ]
  },
  {
   "cell_type": "code",
   "execution_count": 132,
   "id": "a48a6dcd",
   "metadata": {},
   "outputs": [
    {
     "name": "stdout",
     "output_type": "stream",
     "text": [
      "altitude                0\n",
      "date_time               0\n",
      "device_info_serial      0\n",
      "direction             443\n",
      "latitude                0\n",
      "longitude               0\n",
      "speed_2d              443\n",
      "bird_name               0\n",
      "dtype: int64\n"
     ]
    }
   ],
   "source": [
    "count_nan_in_df = df_birds.isnull().sum()\n",
    "print(count_nan_in_df)"
   ]
  },
  {
   "cell_type": "markdown",
   "id": "91d9262f",
   "metadata": {},
   "source": [
    "Las únicas columnas con valores nulos son direction y speed_2d. Además, el número de valores nulos coincide. Compruebo si los valores se corresponden."
   ]
  },
  {
   "cell_type": "code",
   "execution_count": 133,
   "id": "bf217df5",
   "metadata": {},
   "outputs": [
    {
     "data": {
      "text/html": [
       "<div>\n",
       "<style scoped>\n",
       "    .dataframe tbody tr th:only-of-type {\n",
       "        vertical-align: middle;\n",
       "    }\n",
       "\n",
       "    .dataframe tbody tr th {\n",
       "        vertical-align: top;\n",
       "    }\n",
       "\n",
       "    .dataframe thead th {\n",
       "        text-align: right;\n",
       "    }\n",
       "</style>\n",
       "<table border=\"1\" class=\"dataframe\">\n",
       "  <thead>\n",
       "    <tr style=\"text-align: right;\">\n",
       "      <th></th>\n",
       "      <th>altitude</th>\n",
       "      <th>date_time</th>\n",
       "      <th>device_info_serial</th>\n",
       "      <th>direction</th>\n",
       "      <th>latitude</th>\n",
       "      <th>longitude</th>\n",
       "      <th>speed_2d</th>\n",
       "      <th>bird_name</th>\n",
       "    </tr>\n",
       "  </thead>\n",
       "  <tbody>\n",
       "    <tr>\n",
       "      <th>219</th>\n",
       "      <td>333</td>\n",
       "      <td>2013-08-17 14:53:28+00</td>\n",
       "      <td>851</td>\n",
       "      <td>NaN</td>\n",
       "      <td>50.059118</td>\n",
       "      <td>2.313576</td>\n",
       "      <td>NaN</td>\n",
       "      <td>Eric</td>\n",
       "    </tr>\n",
       "    <tr>\n",
       "      <th>1005</th>\n",
       "      <td>60</td>\n",
       "      <td>2013-08-27 03:49:51+00</td>\n",
       "      <td>851</td>\n",
       "      <td>NaN</td>\n",
       "      <td>49.937367</td>\n",
       "      <td>2.269356</td>\n",
       "      <td>NaN</td>\n",
       "      <td>Eric</td>\n",
       "    </tr>\n",
       "    <tr>\n",
       "      <th>1231</th>\n",
       "      <td>96</td>\n",
       "      <td>2013-08-29 19:03:23+00</td>\n",
       "      <td>851</td>\n",
       "      <td>NaN</td>\n",
       "      <td>50.194337</td>\n",
       "      <td>2.739221</td>\n",
       "      <td>NaN</td>\n",
       "      <td>Eric</td>\n",
       "    </tr>\n",
       "    <tr>\n",
       "      <th>1254</th>\n",
       "      <td>108</td>\n",
       "      <td>2013-08-30 03:49:33+00</td>\n",
       "      <td>851</td>\n",
       "      <td>NaN</td>\n",
       "      <td>50.192476</td>\n",
       "      <td>2.735606</td>\n",
       "      <td>NaN</td>\n",
       "      <td>Eric</td>\n",
       "    </tr>\n",
       "    <tr>\n",
       "      <th>1530</th>\n",
       "      <td>135</td>\n",
       "      <td>2013-09-02 10:52:35+00</td>\n",
       "      <td>851</td>\n",
       "      <td>NaN</td>\n",
       "      <td>50.209139</td>\n",
       "      <td>2.634229</td>\n",
       "      <td>NaN</td>\n",
       "      <td>Eric</td>\n",
       "    </tr>\n",
       "    <tr>\n",
       "      <th>...</th>\n",
       "      <td>...</td>\n",
       "      <td>...</td>\n",
       "      <td>...</td>\n",
       "      <td>...</td>\n",
       "      <td>...</td>\n",
       "      <td>...</td>\n",
       "      <td>...</td>\n",
       "      <td>...</td>\n",
       "    </tr>\n",
       "    <tr>\n",
       "      <th>61161</th>\n",
       "      <td>9</td>\n",
       "      <td>2014-04-20 21:55:57+00</td>\n",
       "      <td>833</td>\n",
       "      <td>NaN</td>\n",
       "      <td>51.349591</td>\n",
       "      <td>3.171591</td>\n",
       "      <td>NaN</td>\n",
       "      <td>Sanne</td>\n",
       "    </tr>\n",
       "    <tr>\n",
       "      <th>61166</th>\n",
       "      <td>0</td>\n",
       "      <td>2014-04-21 00:26:40+00</td>\n",
       "      <td>833</td>\n",
       "      <td>NaN</td>\n",
       "      <td>51.347476</td>\n",
       "      <td>3.173766</td>\n",
       "      <td>NaN</td>\n",
       "      <td>Sanne</td>\n",
       "    </tr>\n",
       "    <tr>\n",
       "      <th>61672</th>\n",
       "      <td>28</td>\n",
       "      <td>2014-04-27 16:49:01+00</td>\n",
       "      <td>833</td>\n",
       "      <td>NaN</td>\n",
       "      <td>51.067792</td>\n",
       "      <td>3.279343</td>\n",
       "      <td>NaN</td>\n",
       "      <td>Sanne</td>\n",
       "    </tr>\n",
       "    <tr>\n",
       "      <th>61702</th>\n",
       "      <td>37</td>\n",
       "      <td>2014-04-28 04:07:53+00</td>\n",
       "      <td>833</td>\n",
       "      <td>NaN</td>\n",
       "      <td>51.323376</td>\n",
       "      <td>3.210039</td>\n",
       "      <td>NaN</td>\n",
       "      <td>Sanne</td>\n",
       "    </tr>\n",
       "    <tr>\n",
       "      <th>61773</th>\n",
       "      <td>-3</td>\n",
       "      <td>2014-04-29 03:30:46+00</td>\n",
       "      <td>833</td>\n",
       "      <td>NaN</td>\n",
       "      <td>51.355093</td>\n",
       "      <td>3.184195</td>\n",
       "      <td>NaN</td>\n",
       "      <td>Sanne</td>\n",
       "    </tr>\n",
       "  </tbody>\n",
       "</table>\n",
       "<p>443 rows × 8 columns</p>\n",
       "</div>"
      ],
      "text/plain": [
       "       altitude               date_time  device_info_serial  direction  \\\n",
       "219         333  2013-08-17 14:53:28+00                 851        NaN   \n",
       "1005         60  2013-08-27 03:49:51+00                 851        NaN   \n",
       "1231         96  2013-08-29 19:03:23+00                 851        NaN   \n",
       "1254        108  2013-08-30 03:49:33+00                 851        NaN   \n",
       "1530        135  2013-09-02 10:52:35+00                 851        NaN   \n",
       "...         ...                     ...                 ...        ...   \n",
       "61161         9  2014-04-20 21:55:57+00                 833        NaN   \n",
       "61166         0  2014-04-21 00:26:40+00                 833        NaN   \n",
       "61672        28  2014-04-27 16:49:01+00                 833        NaN   \n",
       "61702        37  2014-04-28 04:07:53+00                 833        NaN   \n",
       "61773        -3  2014-04-29 03:30:46+00                 833        NaN   \n",
       "\n",
       "        latitude  longitude  speed_2d bird_name  \n",
       "219    50.059118   2.313576       NaN      Eric  \n",
       "1005   49.937367   2.269356       NaN      Eric  \n",
       "1231   50.194337   2.739221       NaN      Eric  \n",
       "1254   50.192476   2.735606       NaN      Eric  \n",
       "1530   50.209139   2.634229       NaN      Eric  \n",
       "...          ...        ...       ...       ...  \n",
       "61161  51.349591   3.171591       NaN     Sanne  \n",
       "61166  51.347476   3.173766       NaN     Sanne  \n",
       "61672  51.067792   3.279343       NaN     Sanne  \n",
       "61702  51.323376   3.210039       NaN     Sanne  \n",
       "61773  51.355093   3.184195       NaN     Sanne  \n",
       "\n",
       "[443 rows x 8 columns]"
      ]
     },
     "metadata": {},
     "output_type": "display_data"
    }
   ],
   "source": [
    "df_nan = df_birds.loc[(df_birds['direction'].isna() == True) & (df_birds['speed_2d'].isna() == True)]\n",
    "display(df_nan)"
   ]
  },
  {
   "cell_type": "markdown",
   "id": "8de8a82f",
   "metadata": {},
   "source": [
    "Efectivamente, las filas para las que direction y speed_2d son nulos son las mismas. El hecho de que estos valores sean nulos indica una falta de datos acerca de la trayectoria del ave, lo que puede significar que el ave estuviera detenida en algún lugar, comiendo o descansando. Por tanto, podemos sustituir estos valores nulos por 0."
   ]
  },
  {
   "cell_type": "code",
   "execution_count": 134,
   "id": "40ddcda3",
   "metadata": {},
   "outputs": [],
   "source": [
    "df_birds = df_birds.fillna(0)"
   ]
  },
  {
   "cell_type": "markdown",
   "id": "5ab25cce",
   "metadata": {},
   "source": [
    "Transformo la columna datetime, separándola en valores numéricos de acuerdo con año, mes, día, hora, minutos y segundos, para que pueda ser manejable por el modelo Random Forest"
   ]
  },
  {
   "cell_type": "code",
   "execution_count": 135,
   "id": "1c049acc",
   "metadata": {},
   "outputs": [
    {
     "data": {
      "text/html": [
       "<div>\n",
       "<style scoped>\n",
       "    .dataframe tbody tr th:only-of-type {\n",
       "        vertical-align: middle;\n",
       "    }\n",
       "\n",
       "    .dataframe tbody tr th {\n",
       "        vertical-align: top;\n",
       "    }\n",
       "\n",
       "    .dataframe thead th {\n",
       "        text-align: right;\n",
       "    }\n",
       "</style>\n",
       "<table border=\"1\" class=\"dataframe\">\n",
       "  <thead>\n",
       "    <tr style=\"text-align: right;\">\n",
       "      <th></th>\n",
       "      <th>altitude</th>\n",
       "      <th>date_time</th>\n",
       "      <th>device_info_serial</th>\n",
       "      <th>direction</th>\n",
       "      <th>latitude</th>\n",
       "      <th>longitude</th>\n",
       "      <th>speed_2d</th>\n",
       "      <th>bird_name</th>\n",
       "      <th>year</th>\n",
       "      <th>month</th>\n",
       "      <th>day</th>\n",
       "      <th>hour</th>\n",
       "      <th>minutes</th>\n",
       "      <th>seconds</th>\n",
       "    </tr>\n",
       "  </thead>\n",
       "  <tbody>\n",
       "    <tr>\n",
       "      <th>0</th>\n",
       "      <td>71</td>\n",
       "      <td>2013-08-15 00:18:08+00</td>\n",
       "      <td>851</td>\n",
       "      <td>-150.469753</td>\n",
       "      <td>49.419860</td>\n",
       "      <td>2.120733</td>\n",
       "      <td>0.150000</td>\n",
       "      <td>Eric</td>\n",
       "      <td>2013</td>\n",
       "      <td>8</td>\n",
       "      <td>15</td>\n",
       "      <td>0</td>\n",
       "      <td>18</td>\n",
       "      <td>8</td>\n",
       "    </tr>\n",
       "    <tr>\n",
       "      <th>1</th>\n",
       "      <td>68</td>\n",
       "      <td>2013-08-15 00:48:07+00</td>\n",
       "      <td>851</td>\n",
       "      <td>-136.151141</td>\n",
       "      <td>49.419880</td>\n",
       "      <td>2.120746</td>\n",
       "      <td>2.438360</td>\n",
       "      <td>Eric</td>\n",
       "      <td>2013</td>\n",
       "      <td>8</td>\n",
       "      <td>15</td>\n",
       "      <td>0</td>\n",
       "      <td>48</td>\n",
       "      <td>7</td>\n",
       "    </tr>\n",
       "    <tr>\n",
       "      <th>2</th>\n",
       "      <td>68</td>\n",
       "      <td>2013-08-15 01:17:58+00</td>\n",
       "      <td>851</td>\n",
       "      <td>160.797477</td>\n",
       "      <td>49.420310</td>\n",
       "      <td>2.120885</td>\n",
       "      <td>0.596657</td>\n",
       "      <td>Eric</td>\n",
       "      <td>2013</td>\n",
       "      <td>8</td>\n",
       "      <td>15</td>\n",
       "      <td>1</td>\n",
       "      <td>17</td>\n",
       "      <td>58</td>\n",
       "    </tr>\n",
       "    <tr>\n",
       "      <th>3</th>\n",
       "      <td>73</td>\n",
       "      <td>2013-08-15 01:47:51+00</td>\n",
       "      <td>851</td>\n",
       "      <td>32.769360</td>\n",
       "      <td>49.420359</td>\n",
       "      <td>2.120859</td>\n",
       "      <td>0.310161</td>\n",
       "      <td>Eric</td>\n",
       "      <td>2013</td>\n",
       "      <td>8</td>\n",
       "      <td>15</td>\n",
       "      <td>1</td>\n",
       "      <td>47</td>\n",
       "      <td>51</td>\n",
       "    </tr>\n",
       "    <tr>\n",
       "      <th>4</th>\n",
       "      <td>69</td>\n",
       "      <td>2013-08-15 02:17:42+00</td>\n",
       "      <td>851</td>\n",
       "      <td>45.191230</td>\n",
       "      <td>49.420331</td>\n",
       "      <td>2.120887</td>\n",
       "      <td>0.193132</td>\n",
       "      <td>Eric</td>\n",
       "      <td>2013</td>\n",
       "      <td>8</td>\n",
       "      <td>15</td>\n",
       "      <td>2</td>\n",
       "      <td>17</td>\n",
       "      <td>42</td>\n",
       "    </tr>\n",
       "    <tr>\n",
       "      <th>...</th>\n",
       "      <td>...</td>\n",
       "      <td>...</td>\n",
       "      <td>...</td>\n",
       "      <td>...</td>\n",
       "      <td>...</td>\n",
       "      <td>...</td>\n",
       "      <td>...</td>\n",
       "      <td>...</td>\n",
       "      <td>...</td>\n",
       "      <td>...</td>\n",
       "      <td>...</td>\n",
       "      <td>...</td>\n",
       "      <td>...</td>\n",
       "      <td>...</td>\n",
       "    </tr>\n",
       "    <tr>\n",
       "      <th>61915</th>\n",
       "      <td>11</td>\n",
       "      <td>2014-04-30 22:00:08+00</td>\n",
       "      <td>833</td>\n",
       "      <td>45.448157</td>\n",
       "      <td>51.352572</td>\n",
       "      <td>3.177151</td>\n",
       "      <td>0.208087</td>\n",
       "      <td>Sanne</td>\n",
       "      <td>2014</td>\n",
       "      <td>4</td>\n",
       "      <td>30</td>\n",
       "      <td>22</td>\n",
       "      <td>0</td>\n",
       "      <td>8</td>\n",
       "    </tr>\n",
       "    <tr>\n",
       "      <th>61916</th>\n",
       "      <td>6</td>\n",
       "      <td>2014-04-30 22:29:57+00</td>\n",
       "      <td>833</td>\n",
       "      <td>-112.073055</td>\n",
       "      <td>51.352585</td>\n",
       "      <td>3.177144</td>\n",
       "      <td>1.522662</td>\n",
       "      <td>Sanne</td>\n",
       "      <td>2014</td>\n",
       "      <td>4</td>\n",
       "      <td>30</td>\n",
       "      <td>22</td>\n",
       "      <td>29</td>\n",
       "      <td>57</td>\n",
       "    </tr>\n",
       "    <tr>\n",
       "      <th>61917</th>\n",
       "      <td>5</td>\n",
       "      <td>2014-04-30 22:59:52+00</td>\n",
       "      <td>833</td>\n",
       "      <td>69.989037</td>\n",
       "      <td>51.352622</td>\n",
       "      <td>3.177257</td>\n",
       "      <td>3.120545</td>\n",
       "      <td>Sanne</td>\n",
       "      <td>2014</td>\n",
       "      <td>4</td>\n",
       "      <td>30</td>\n",
       "      <td>22</td>\n",
       "      <td>59</td>\n",
       "      <td>52</td>\n",
       "    </tr>\n",
       "    <tr>\n",
       "      <th>61918</th>\n",
       "      <td>16</td>\n",
       "      <td>2014-04-30 23:29:43+00</td>\n",
       "      <td>833</td>\n",
       "      <td>88.376373</td>\n",
       "      <td>51.354641</td>\n",
       "      <td>3.181509</td>\n",
       "      <td>0.592115</td>\n",
       "      <td>Sanne</td>\n",
       "      <td>2014</td>\n",
       "      <td>4</td>\n",
       "      <td>30</td>\n",
       "      <td>23</td>\n",
       "      <td>29</td>\n",
       "      <td>43</td>\n",
       "    </tr>\n",
       "    <tr>\n",
       "      <th>61919</th>\n",
       "      <td>9</td>\n",
       "      <td>2014-04-30 23:59:34+00</td>\n",
       "      <td>833</td>\n",
       "      <td>149.949008</td>\n",
       "      <td>51.354474</td>\n",
       "      <td>3.181057</td>\n",
       "      <td>0.485489</td>\n",
       "      <td>Sanne</td>\n",
       "      <td>2014</td>\n",
       "      <td>4</td>\n",
       "      <td>30</td>\n",
       "      <td>23</td>\n",
       "      <td>59</td>\n",
       "      <td>34</td>\n",
       "    </tr>\n",
       "  </tbody>\n",
       "</table>\n",
       "<p>61920 rows × 14 columns</p>\n",
       "</div>"
      ],
      "text/plain": [
       "       altitude               date_time  device_info_serial   direction  \\\n",
       "0            71  2013-08-15 00:18:08+00                 851 -150.469753   \n",
       "1            68  2013-08-15 00:48:07+00                 851 -136.151141   \n",
       "2            68  2013-08-15 01:17:58+00                 851  160.797477   \n",
       "3            73  2013-08-15 01:47:51+00                 851   32.769360   \n",
       "4            69  2013-08-15 02:17:42+00                 851   45.191230   \n",
       "...         ...                     ...                 ...         ...   \n",
       "61915        11  2014-04-30 22:00:08+00                 833   45.448157   \n",
       "61916         6  2014-04-30 22:29:57+00                 833 -112.073055   \n",
       "61917         5  2014-04-30 22:59:52+00                 833   69.989037   \n",
       "61918        16  2014-04-30 23:29:43+00                 833   88.376373   \n",
       "61919         9  2014-04-30 23:59:34+00                 833  149.949008   \n",
       "\n",
       "        latitude  longitude  speed_2d bird_name  year  month  day  hour  \\\n",
       "0      49.419860   2.120733  0.150000      Eric  2013      8   15     0   \n",
       "1      49.419880   2.120746  2.438360      Eric  2013      8   15     0   \n",
       "2      49.420310   2.120885  0.596657      Eric  2013      8   15     1   \n",
       "3      49.420359   2.120859  0.310161      Eric  2013      8   15     1   \n",
       "4      49.420331   2.120887  0.193132      Eric  2013      8   15     2   \n",
       "...          ...        ...       ...       ...   ...    ...  ...   ...   \n",
       "61915  51.352572   3.177151  0.208087     Sanne  2014      4   30    22   \n",
       "61916  51.352585   3.177144  1.522662     Sanne  2014      4   30    22   \n",
       "61917  51.352622   3.177257  3.120545     Sanne  2014      4   30    22   \n",
       "61918  51.354641   3.181509  0.592115     Sanne  2014      4   30    23   \n",
       "61919  51.354474   3.181057  0.485489     Sanne  2014      4   30    23   \n",
       "\n",
       "       minutes  seconds  \n",
       "0           18        8  \n",
       "1           48        7  \n",
       "2           17       58  \n",
       "3           47       51  \n",
       "4           17       42  \n",
       "...        ...      ...  \n",
       "61915        0        8  \n",
       "61916       29       57  \n",
       "61917       59       52  \n",
       "61918       29       43  \n",
       "61919       59       34  \n",
       "\n",
       "[61920 rows x 14 columns]"
      ]
     },
     "metadata": {},
     "output_type": "display_data"
    }
   ],
   "source": [
    "df_birds['year'] = pd.to_datetime(df_birds['date_time']).dt.year\n",
    "df_birds['month'] = pd.to_datetime(df_birds['date_time']).dt.month\n",
    "df_birds['day'] = pd.to_datetime(df_birds['date_time']).dt.day\n",
    "df_birds['hour'] = pd.to_datetime(df_birds['date_time']).dt.hour\n",
    "df_birds['minutes'] = pd.to_datetime(df_birds['date_time']).dt.minute\n",
    "df_birds['seconds'] = pd.to_datetime(df_birds['date_time']).dt.second\n",
    "display(df_birds)"
   ]
  },
  {
   "cell_type": "code",
   "execution_count": 136,
   "id": "a28576ff",
   "metadata": {},
   "outputs": [],
   "source": [
    "df_birds = df_birds.drop(columns = ['date_time'])"
   ]
  },
  {
   "cell_type": "markdown",
   "id": "0315d62a",
   "metadata": {},
   "source": [
    "Compruebo que el número de observaciones de cada ave esté equilibrado"
   ]
  },
  {
   "cell_type": "code",
   "execution_count": 137,
   "id": "e1fbd517",
   "metadata": {},
   "outputs": [
    {
     "data": {
      "text/plain": [
       "Nico     21121\n",
       "Sanne    21004\n",
       "Eric     19795\n",
       "Name: bird_name, dtype: int64"
      ]
     },
     "metadata": {},
     "output_type": "display_data"
    },
    {
     "data": {
      "image/png": "[encoded data removed]",
      "text/plain": [
       "<Figure size 432x288 with 1 Axes>"
      ]
     },
     "metadata": {
      "needs_background": "light"
     },
     "output_type": "display_data"
    }
   ],
   "source": [
    "import seaborn as sns\n",
    "import matplotlib.pyplot as plt\n",
    "\n",
    "display(df_birds.bird_name.value_counts())\n",
    "\n",
    "sns.countplot(x=\"bird_name\", data=df_birds)\n",
    "plt.show()"
   ]
  },
  {
   "cell_type": "markdown",
   "id": "bca514d4",
   "metadata": {},
   "source": [
    "Separo las variables de las etiquetas"
   ]
  },
  {
   "cell_type": "code",
   "execution_count": 138,
   "id": "7f8a825d",
   "metadata": {},
   "outputs": [],
   "source": [
    "X = df_birds.drop(['bird_name'],axis=1)\n",
    "Y = df_birds['bird_name']"
   ]
  },
  {
   "cell_type": "markdown",
   "id": "f42d0b31",
   "metadata": {},
   "source": [
    "Compruebo la presencia de outliers en el dataset para decidir cómo gestionarlos a la hora de estandarizar los datos"
   ]
  },
  {
   "cell_type": "code",
   "execution_count": 139,
   "id": "ba0a8f45",
   "metadata": {},
   "outputs": [
    {
     "data": {
      "image/png": "[encoded data removed]",
      "text/plain": [
       "<Figure size 1440x720 with 1 Axes>"
      ]
     },
     "metadata": {
      "needs_background": "light"
     },
     "output_type": "display_data"
    }
   ],
   "source": [
    "import seaborn as sns\n",
    "    \n",
    "ax = sns.boxplot(data=X, orient=\"h\", palette=\"Set2\", linewidth=0.5)\n",
    "plt.gcf().set_size_inches(20, 10)"
   ]
  },
  {
   "cell_type": "markdown",
   "id": "7e899e1d",
   "metadata": {},
   "source": [
    "A excepción de altitude, prácticamente no puede apreciarse presencia de outliers en las variables. Sin embargo, la cantidad de outliers en altitude es muy notable. Por tanto, optaré por RobustScaler. El RobustScaler impide que los valores atípicos distorsionen los resultados ya que elimina la mediana y escala los datos de acuerdo con el rango IQR (el rango entre el primer cuartil, 25, y el tercer cuartil, 75)."
   ]
  },
  {
   "cell_type": "code",
   "execution_count": 140,
   "id": "3f2d4c46",
   "metadata": {},
   "outputs": [],
   "source": [
    "from sklearn.ensemble import RandomForestClassifier\n",
    "from sklearn.preprocessing import RobustScaler\n",
    "from sklearn.pipeline import Pipeline\n",
    "\n",
    "steps = [('scaler', RobustScaler()), ('RandomForest', RandomForestClassifier(random_state=27))]\n",
    "pipeline = Pipeline(steps)"
   ]
  },
  {
   "cell_type": "markdown",
   "id": "81354652",
   "metadata": {},
   "source": [
    "Divido el dataset en train y test y aplico stratify para solventar el hecho de que las cantidades de las muestras para cada ave no sean exactamente las mismas"
   ]
  },
  {
   "cell_type": "code",
   "execution_count": 141,
   "id": "06eeda81",
   "metadata": {},
   "outputs": [],
   "source": [
    "from sklearn.model_selection import train_test_split\n",
    "\n",
    "X_train, X_test, y_train, y_test = train_test_split(X,Y,test_size=0.2, random_state=30, stratify=Y)"
   ]
  },
  {
   "cell_type": "markdown",
   "id": "ae1484e6",
   "metadata": {},
   "source": [
    "Determino los parámetros que quiero considerar en el modelo y averiguo cuáles son los que mejor resultado dan"
   ]
  },
  {
   "cell_type": "code",
   "execution_count": 142,
   "id": "57bd4fee",
   "metadata": {},
   "outputs": [
    {
     "ename": "KeyboardInterrupt",
     "evalue": "",
     "output_type": "error",
     "traceback": [
      "\u001b[0;31m---------------------------------------------------------------------------\u001b[0m",
      "\u001b[0;31mKeyboardInterrupt\u001b[0m                         Traceback (most recent call last)",
      "\u001b[0;32m/var/folders/5j/t9djkx8d4pl6qlxm40r48rz40000gp/T/ipykernel_937/3651771272.py\u001b[0m in \u001b[0;36m<module>\u001b[0;34m\u001b[0m\n\u001b[1;32m      3\u001b[0m \u001b[0mparameteres\u001b[0m \u001b[0;34m=\u001b[0m \u001b[0;34m{\u001b[0m\u001b[0;34m'RandomForest__n_estimators'\u001b[0m\u001b[0;34m:\u001b[0m\u001b[0;34m[\u001b[0m\u001b[0;36m100\u001b[0m\u001b[0;34m,\u001b[0m\u001b[0;36m200\u001b[0m\u001b[0;34m,\u001b[0m\u001b[0;36m500\u001b[0m\u001b[0;34m]\u001b[0m\u001b[0;34m,\u001b[0m \u001b[0;34m'RandomForest__criterion'\u001b[0m\u001b[0;34m:\u001b[0m\u001b[0;34m[\u001b[0m\u001b[0;34m'gini'\u001b[0m\u001b[0;34m,\u001b[0m\u001b[0;34m'entropy'\u001b[0m\u001b[0;34m]\u001b[0m\u001b[0;34m}\u001b[0m\u001b[0;34m\u001b[0m\u001b[0;34m\u001b[0m\u001b[0m\n\u001b[1;32m      4\u001b[0m \u001b[0mgrid\u001b[0m \u001b[0;34m=\u001b[0m \u001b[0mGridSearchCV\u001b[0m\u001b[0;34m(\u001b[0m\u001b[0mpipeline\u001b[0m\u001b[0;34m,\u001b[0m \u001b[0mparam_grid\u001b[0m\u001b[0;34m=\u001b[0m\u001b[0mparameteres\u001b[0m\u001b[0;34m,\u001b[0m \u001b[0mcv\u001b[0m\u001b[0;34m=\u001b[0m\u001b[0;36m5\u001b[0m\u001b[0;34m)\u001b[0m\u001b[0;34m\u001b[0m\u001b[0;34m\u001b[0m\u001b[0m\n\u001b[0;32m----> 5\u001b[0;31m \u001b[0mgrid\u001b[0m\u001b[0;34m.\u001b[0m\u001b[0mfit\u001b[0m\u001b[0;34m(\u001b[0m\u001b[0mX_train\u001b[0m\u001b[0;34m,\u001b[0m \u001b[0my_train\u001b[0m\u001b[0;34m)\u001b[0m\u001b[0;34m\u001b[0m\u001b[0;34m\u001b[0m\u001b[0m\n\u001b[0m\u001b[1;32m      6\u001b[0m \u001b[0mprint\u001b[0m\u001b[0;34m(\u001b[0m\u001b[0mgrid\u001b[0m\u001b[0;34m.\u001b[0m\u001b[0mscore\u001b[0m\u001b[0;34m(\u001b[0m\u001b[0mX_test\u001b[0m\u001b[0;34m,\u001b[0m\u001b[0my_test\u001b[0m\u001b[0;34m)\u001b[0m\u001b[0;34m)\u001b[0m\u001b[0;34m\u001b[0m\u001b[0;34m\u001b[0m\u001b[0m\n\u001b[1;32m      7\u001b[0m \u001b[0mprint\u001b[0m\u001b[0;34m(\u001b[0m\u001b[0mgrid\u001b[0m\u001b[0;34m.\u001b[0m\u001b[0mbest_params_\u001b[0m\u001b[0;34m)\u001b[0m\u001b[0;34m\u001b[0m\u001b[0;34m\u001b[0m\u001b[0m\n",
      "\u001b[0;32m~/opt/anaconda3/lib/python3.9/site-packages/sklearn/model_selection/_search.py\u001b[0m in \u001b[0;36mfit\u001b[0;34m(self, X, y, groups, **fit_params)\u001b[0m\n\u001b[1;32m    889\u001b[0m                 \u001b[0;32mreturn\u001b[0m \u001b[0mresults\u001b[0m\u001b[0;34m\u001b[0m\u001b[0;34m\u001b[0m\u001b[0m\n\u001b[1;32m    890\u001b[0m \u001b[0;34m\u001b[0m\u001b[0m\n\u001b[0;32m--> 891\u001b[0;31m             \u001b[0mself\u001b[0m\u001b[0;34m.\u001b[0m\u001b[0m_run_search\u001b[0m\u001b[0;34m(\u001b[0m\u001b[0mevaluate_candidates\u001b[0m\u001b[0;34m)\u001b[0m\u001b[0;34m\u001b[0m\u001b[0;34m\u001b[0m\u001b[0m\n\u001b[0m\u001b[1;32m    892\u001b[0m \u001b[0;34m\u001b[0m\u001b[0m\n\u001b[1;32m    893\u001b[0m             \u001b[0;31m# multimetric is determined here because in the case of a callable\u001b[0m\u001b[0;34m\u001b[0m\u001b[0;34m\u001b[0m\u001b[0m\n",
      "\u001b[0;32m~/opt/anaconda3/lib/python3.9/site-packages/sklearn/model_selection/_search.py\u001b[0m in \u001b[0;36m_run_search\u001b[0;34m(self, evaluate_candidates)\u001b[0m\n\u001b[1;32m   1390\u001b[0m     \u001b[0;32mdef\u001b[0m \u001b[0m_run_search\u001b[0m\u001b[0;34m(\u001b[0m\u001b[0mself\u001b[0m\u001b[0;34m,\u001b[0m \u001b[0mevaluate_candidates\u001b[0m\u001b[0;34m)\u001b[0m\u001b[0;34m:\u001b[0m\u001b[0;34m\u001b[0m\u001b[0;34m\u001b[0m\u001b[0m\n\u001b[1;32m   1391\u001b[0m         \u001b[0;34m\"\"\"Search all candidates in param_grid\"\"\"\u001b[0m\u001b[0;34m\u001b[0m\u001b[0;34m\u001b[0m\u001b[0m\n\u001b[0;32m-> 1392\u001b[0;31m         \u001b[0mevaluate_candidates\u001b[0m\u001b[0;34m(\u001b[0m\u001b[0mParameterGrid\u001b[0m\u001b[0;34m(\u001b[0m\u001b[0mself\u001b[0m\u001b[0;34m.\u001b[0m\u001b[0mparam_grid\u001b[0m\u001b[0;34m)\u001b[0m\u001b[0;34m)\u001b[0m\u001b[0;34m\u001b[0m\u001b[0;34m\u001b[0m\u001b[0m\n\u001b[0m\u001b[1;32m   1393\u001b[0m \u001b[0;34m\u001b[0m\u001b[0m\n\u001b[1;32m   1394\u001b[0m \u001b[0;34m\u001b[0m\u001b[0m\n",
      "\u001b[0;32m~/opt/anaconda3/lib/python3.9/site-packages/sklearn/model_selection/_search.py\u001b[0m in \u001b[0;36mevaluate_candidates\u001b[0;34m(candidate_params, cv, more_results)\u001b[0m\n\u001b[1;32m    836\u001b[0m                     )\n\u001b[1;32m    837\u001b[0m \u001b[0;34m\u001b[0m\u001b[0m\n\u001b[0;32m--> 838\u001b[0;31m                 out = parallel(\n\u001b[0m\u001b[1;32m    839\u001b[0m                     delayed(_fit_and_score)(\n\u001b[1;32m    840\u001b[0m                         \u001b[0mclone\u001b[0m\u001b[0;34m(\u001b[0m\u001b[0mbase_estimator\u001b[0m\u001b[0;34m)\u001b[0m\u001b[0;34m,\u001b[0m\u001b[0;34m\u001b[0m\u001b[0;34m\u001b[0m\u001b[0m\n",
      "\u001b[0;32m~/opt/anaconda3/lib/python3.9/site-packages/joblib/parallel.py\u001b[0m in \u001b[0;36m__call__\u001b[0;34m(self, iterable)\u001b[0m\n\u001b[1;32m   1044\u001b[0m                 \u001b[0mself\u001b[0m\u001b[0;34m.\u001b[0m\u001b[0m_iterating\u001b[0m \u001b[0;34m=\u001b[0m \u001b[0mself\u001b[0m\u001b[0;34m.\u001b[0m\u001b[0m_original_iterator\u001b[0m \u001b[0;32mis\u001b[0m \u001b[0;32mnot\u001b[0m \u001b[0;32mNone\u001b[0m\u001b[0;34m\u001b[0m\u001b[0;34m\u001b[0m\u001b[0m\n\u001b[1;32m   1045\u001b[0m \u001b[0;34m\u001b[0m\u001b[0m\n\u001b[0;32m-> 1046\u001b[0;31m             \u001b[0;32mwhile\u001b[0m \u001b[0mself\u001b[0m\u001b[0;34m.\u001b[0m\u001b[0mdispatch_one_batch\u001b[0m\u001b[0;34m(\u001b[0m\u001b[0miterator\u001b[0m\u001b[0;34m)\u001b[0m\u001b[0;34m:\u001b[0m\u001b[0;34m\u001b[0m\u001b[0;34m\u001b[0m\u001b[0m\n\u001b[0m\u001b[1;32m   1047\u001b[0m                 \u001b[0;32mpass\u001b[0m\u001b[0;34m\u001b[0m\u001b[0;34m\u001b[0m\u001b[0m\n\u001b[1;32m   1048\u001b[0m \u001b[0;34m\u001b[0m\u001b[0m\n",
      "\u001b[0;32m~/opt/anaconda3/lib/python3.9/site-packages/joblib/parallel.py\u001b[0m in \u001b[0;36mdispatch_one_batch\u001b[0;34m(self, iterator)\u001b[0m\n\u001b[1;32m    859\u001b[0m                 \u001b[0;32mreturn\u001b[0m \u001b[0;32mFalse\u001b[0m\u001b[0;34m\u001b[0m\u001b[0;34m\u001b[0m\u001b[0m\n\u001b[1;32m    860\u001b[0m             \u001b[0;32melse\u001b[0m\u001b[0;34m:\u001b[0m\u001b[0;34m\u001b[0m\u001b[0;34m\u001b[0m\u001b[0m\n\u001b[0;32m--> 861\u001b[0;31m                 \u001b[0mself\u001b[0m\u001b[0;34m.\u001b[0m\u001b[0m_dispatch\u001b[0m\u001b[0;34m(\u001b[0m\u001b[0mtasks\u001b[0m\u001b[0;34m)\u001b[0m\u001b[0;34m\u001b[0m\u001b[0;34m\u001b[0m\u001b[0m\n\u001b[0m\u001b[1;32m    862\u001b[0m                 \u001b[0;32mreturn\u001b[0m \u001b[0;32mTrue\u001b[0m\u001b[0;34m\u001b[0m\u001b[0;34m\u001b[0m\u001b[0m\n\u001b[1;32m    863\u001b[0m \u001b[0;34m\u001b[0m\u001b[0m\n",
      "\u001b[0;32m~/opt/anaconda3/lib/python3.9/site-packages/joblib/parallel.py\u001b[0m in \u001b[0;36m_dispatch\u001b[0;34m(self, batch)\u001b[0m\n\u001b[1;32m    777\u001b[0m         \u001b[0;32mwith\u001b[0m \u001b[0mself\u001b[0m\u001b[0;34m.\u001b[0m\u001b[0m_lock\u001b[0m\u001b[0;34m:\u001b[0m\u001b[0;34m\u001b[0m\u001b[0;34m\u001b[0m\u001b[0m\n\u001b[1;32m    778\u001b[0m             \u001b[0mjob_idx\u001b[0m \u001b[0;34m=\u001b[0m \u001b[0mlen\u001b[0m\u001b[0;34m(\u001b[0m\u001b[0mself\u001b[0m\u001b[0;34m.\u001b[0m\u001b[0m_jobs\u001b[0m\u001b[0;34m)\u001b[0m\u001b[0;34m\u001b[0m\u001b[0;34m\u001b[0m\u001b[0m\n\u001b[0;32m--> 779\u001b[0;31m             \u001b[0mjob\u001b[0m \u001b[0;34m=\u001b[0m \u001b[0mself\u001b[0m\u001b[0;34m.\u001b[0m\u001b[0m_backend\u001b[0m\u001b[0;34m.\u001b[0m\u001b[0mapply_async\u001b[0m\u001b[0;34m(\u001b[0m\u001b[0mbatch\u001b[0m\u001b[0;34m,\u001b[0m \u001b[0mcallback\u001b[0m\u001b[0;34m=\u001b[0m\u001b[0mcb\u001b[0m\u001b[0;34m)\u001b[0m\u001b[0;34m\u001b[0m\u001b[0;34m\u001b[0m\u001b[0m\n\u001b[0m\u001b[1;32m    780\u001b[0m             \u001b[0;31m# A job can complete so quickly than its callback is\u001b[0m\u001b[0;34m\u001b[0m\u001b[0;34m\u001b[0m\u001b[0m\n\u001b[1;32m    781\u001b[0m             \u001b[0;31m# called before we get here, causing self._jobs to\u001b[0m\u001b[0;34m\u001b[0m\u001b[0;34m\u001b[0m\u001b[0m\n",
      "\u001b[0;32m~/opt/anaconda3/lib/python3.9/site-packages/joblib/_parallel_backends.py\u001b[0m in \u001b[0;36mapply_async\u001b[0;34m(self, func, callback)\u001b[0m\n\u001b[1;32m    206\u001b[0m     \u001b[0;32mdef\u001b[0m \u001b[0mapply_async\u001b[0m\u001b[0;34m(\u001b[0m\u001b[0mself\u001b[0m\u001b[0;34m,\u001b[0m \u001b[0mfunc\u001b[0m\u001b[0;34m,\u001b[0m \u001b[0mcallback\u001b[0m\u001b[0;34m=\u001b[0m\u001b[0;32mNone\u001b[0m\u001b[0;34m)\u001b[0m\u001b[0;34m:\u001b[0m\u001b[0;34m\u001b[0m\u001b[0;34m\u001b[0m\u001b[0m\n\u001b[1;32m    207\u001b[0m         \u001b[0;34m\"\"\"Schedule a func to be run\"\"\"\u001b[0m\u001b[0;34m\u001b[0m\u001b[0;34m\u001b[0m\u001b[0m\n\u001b[0;32m--> 208\u001b[0;31m         \u001b[0mresult\u001b[0m \u001b[0;34m=\u001b[0m \u001b[0mImmediateResult\u001b[0m\u001b[0;34m(\u001b[0m\u001b[0mfunc\u001b[0m\u001b[0;34m)\u001b[0m\u001b[0;34m\u001b[0m\u001b[0;34m\u001b[0m\u001b[0m\n\u001b[0m\u001b[1;32m    209\u001b[0m         \u001b[0;32mif\u001b[0m \u001b[0mcallback\u001b[0m\u001b[0;34m:\u001b[0m\u001b[0;34m\u001b[0m\u001b[0;34m\u001b[0m\u001b[0m\n\u001b[1;32m    210\u001b[0m             \u001b[0mcallback\u001b[0m\u001b[0;34m(\u001b[0m\u001b[0mresult\u001b[0m\u001b[0;34m)\u001b[0m\u001b[0;34m\u001b[0m\u001b[0;34m\u001b[0m\u001b[0m\n",
      "\u001b[0;32m~/opt/anaconda3/lib/python3.9/site-packages/joblib/_parallel_backends.py\u001b[0m in \u001b[0;36m__init__\u001b[0;34m(self, batch)\u001b[0m\n\u001b[1;32m    570\u001b[0m         \u001b[0;31m# Don't delay the application, to avoid keeping the input\u001b[0m\u001b[0;34m\u001b[0m\u001b[0;34m\u001b[0m\u001b[0m\n\u001b[1;32m    571\u001b[0m         \u001b[0;31m# arguments in memory\u001b[0m\u001b[0;34m\u001b[0m\u001b[0;34m\u001b[0m\u001b[0m\n\u001b[0;32m--> 572\u001b[0;31m         \u001b[0mself\u001b[0m\u001b[0;34m.\u001b[0m\u001b[0mresults\u001b[0m \u001b[0;34m=\u001b[0m \u001b[0mbatch\u001b[0m\u001b[0;34m(\u001b[0m\u001b[0;34m)\u001b[0m\u001b[0;34m\u001b[0m\u001b[0;34m\u001b[0m\u001b[0m\n\u001b[0m\u001b[1;32m    573\u001b[0m \u001b[0;34m\u001b[0m\u001b[0m\n\u001b[1;32m    574\u001b[0m     \u001b[0;32mdef\u001b[0m \u001b[0mget\u001b[0m\u001b[0;34m(\u001b[0m\u001b[0mself\u001b[0m\u001b[0;34m)\u001b[0m\u001b[0;34m:\u001b[0m\u001b[0;34m\u001b[0m\u001b[0;34m\u001b[0m\u001b[0m\n",
      "\u001b[0;32m~/opt/anaconda3/lib/python3.9/site-packages/joblib/parallel.py\u001b[0m in \u001b[0;36m__call__\u001b[0;34m(self)\u001b[0m\n\u001b[1;32m    260\u001b[0m         \u001b[0;31m# change the default number of processes to -1\u001b[0m\u001b[0;34m\u001b[0m\u001b[0;34m\u001b[0m\u001b[0m\n\u001b[1;32m    261\u001b[0m         \u001b[0;32mwith\u001b[0m \u001b[0mparallel_backend\u001b[0m\u001b[0;34m(\u001b[0m\u001b[0mself\u001b[0m\u001b[0;34m.\u001b[0m\u001b[0m_backend\u001b[0m\u001b[0;34m,\u001b[0m \u001b[0mn_jobs\u001b[0m\u001b[0;34m=\u001b[0m\u001b[0mself\u001b[0m\u001b[0;34m.\u001b[0m\u001b[0m_n_jobs\u001b[0m\u001b[0;34m)\u001b[0m\u001b[0;34m:\u001b[0m\u001b[0;34m\u001b[0m\u001b[0;34m\u001b[0m\u001b[0m\n\u001b[0;32m--> 262\u001b[0;31m             return [func(*args, **kwargs)\n\u001b[0m\u001b[1;32m    263\u001b[0m                     for func, args, kwargs in self.items]\n\u001b[1;32m    264\u001b[0m \u001b[0;34m\u001b[0m\u001b[0m\n",
      "\u001b[0;32m~/opt/anaconda3/lib/python3.9/site-packages/joblib/parallel.py\u001b[0m in \u001b[0;36m<listcomp>\u001b[0;34m(.0)\u001b[0m\n\u001b[1;32m    260\u001b[0m         \u001b[0;31m# change the default number of processes to -1\u001b[0m\u001b[0;34m\u001b[0m\u001b[0;34m\u001b[0m\u001b[0m\n\u001b[1;32m    261\u001b[0m         \u001b[0;32mwith\u001b[0m \u001b[0mparallel_backend\u001b[0m\u001b[0;34m(\u001b[0m\u001b[0mself\u001b[0m\u001b[0;34m.\u001b[0m\u001b[0m_backend\u001b[0m\u001b[0;34m,\u001b[0m \u001b[0mn_jobs\u001b[0m\u001b[0;34m=\u001b[0m\u001b[0mself\u001b[0m\u001b[0;34m.\u001b[0m\u001b[0m_n_jobs\u001b[0m\u001b[0;34m)\u001b[0m\u001b[0;34m:\u001b[0m\u001b[0;34m\u001b[0m\u001b[0;34m\u001b[0m\u001b[0m\n\u001b[0;32m--> 262\u001b[0;31m             return [func(*args, **kwargs)\n\u001b[0m\u001b[1;32m    263\u001b[0m                     for func, args, kwargs in self.items]\n\u001b[1;32m    264\u001b[0m \u001b[0;34m\u001b[0m\u001b[0m\n",
      "\u001b[0;32m~/opt/anaconda3/lib/python3.9/site-packages/sklearn/utils/fixes.py\u001b[0m in \u001b[0;36m__call__\u001b[0;34m(self, *args, **kwargs)\u001b[0m\n\u001b[1;32m    214\u001b[0m     \u001b[0;32mdef\u001b[0m \u001b[0m__call__\u001b[0m\u001b[0;34m(\u001b[0m\u001b[0mself\u001b[0m\u001b[0;34m,\u001b[0m \u001b[0;34m*\u001b[0m\u001b[0margs\u001b[0m\u001b[0;34m,\u001b[0m \u001b[0;34m**\u001b[0m\u001b[0mkwargs\u001b[0m\u001b[0;34m)\u001b[0m\u001b[0;34m:\u001b[0m\u001b[0;34m\u001b[0m\u001b[0;34m\u001b[0m\u001b[0m\n\u001b[1;32m    215\u001b[0m         \u001b[0;32mwith\u001b[0m \u001b[0mconfig_context\u001b[0m\u001b[0;34m(\u001b[0m\u001b[0;34m**\u001b[0m\u001b[0mself\u001b[0m\u001b[0;34m.\u001b[0m\u001b[0mconfig\u001b[0m\u001b[0;34m)\u001b[0m\u001b[0;34m:\u001b[0m\u001b[0;34m\u001b[0m\u001b[0;34m\u001b[0m\u001b[0m\n\u001b[0;32m--> 216\u001b[0;31m             \u001b[0;32mreturn\u001b[0m \u001b[0mself\u001b[0m\u001b[0;34m.\u001b[0m\u001b[0mfunction\u001b[0m\u001b[0;34m(\u001b[0m\u001b[0;34m*\u001b[0m\u001b[0margs\u001b[0m\u001b[0;34m,\u001b[0m \u001b[0;34m**\u001b[0m\u001b[0mkwargs\u001b[0m\u001b[0;34m)\u001b[0m\u001b[0;34m\u001b[0m\u001b[0;34m\u001b[0m\u001b[0m\n\u001b[0m\u001b[1;32m    217\u001b[0m \u001b[0;34m\u001b[0m\u001b[0m\n\u001b[1;32m    218\u001b[0m \u001b[0;34m\u001b[0m\u001b[0m\n",
      "\u001b[0;32m~/opt/anaconda3/lib/python3.9/site-packages/sklearn/model_selection/_validation.py\u001b[0m in \u001b[0;36m_fit_and_score\u001b[0;34m(estimator, X, y, scorer, train, test, verbose, parameters, fit_params, return_train_score, return_parameters, return_n_test_samples, return_times, return_estimator, split_progress, candidate_progress, error_score)\u001b[0m\n\u001b[1;32m    678\u001b[0m             \u001b[0mestimator\u001b[0m\u001b[0;34m.\u001b[0m\u001b[0mfit\u001b[0m\u001b[0;34m(\u001b[0m\u001b[0mX_train\u001b[0m\u001b[0;34m,\u001b[0m \u001b[0;34m**\u001b[0m\u001b[0mfit_params\u001b[0m\u001b[0;34m)\u001b[0m\u001b[0;34m\u001b[0m\u001b[0;34m\u001b[0m\u001b[0m\n\u001b[1;32m    679\u001b[0m         \u001b[0;32melse\u001b[0m\u001b[0;34m:\u001b[0m\u001b[0;34m\u001b[0m\u001b[0;34m\u001b[0m\u001b[0m\n\u001b[0;32m--> 680\u001b[0;31m             \u001b[0mestimator\u001b[0m\u001b[0;34m.\u001b[0m\u001b[0mfit\u001b[0m\u001b[0;34m(\u001b[0m\u001b[0mX_train\u001b[0m\u001b[0;34m,\u001b[0m \u001b[0my_train\u001b[0m\u001b[0;34m,\u001b[0m \u001b[0;34m**\u001b[0m\u001b[0mfit_params\u001b[0m\u001b[0;34m)\u001b[0m\u001b[0;34m\u001b[0m\u001b[0;34m\u001b[0m\u001b[0m\n\u001b[0m\u001b[1;32m    681\u001b[0m \u001b[0;34m\u001b[0m\u001b[0m\n\u001b[1;32m    682\u001b[0m     \u001b[0;32mexcept\u001b[0m \u001b[0mException\u001b[0m\u001b[0;34m:\u001b[0m\u001b[0;34m\u001b[0m\u001b[0;34m\u001b[0m\u001b[0m\n",
      "\u001b[0;32m~/opt/anaconda3/lib/python3.9/site-packages/sklearn/pipeline.py\u001b[0m in \u001b[0;36mfit\u001b[0;34m(self, X, y, **fit_params)\u001b[0m\n\u001b[1;32m    392\u001b[0m             \u001b[0;32mif\u001b[0m \u001b[0mself\u001b[0m\u001b[0;34m.\u001b[0m\u001b[0m_final_estimator\u001b[0m \u001b[0;34m!=\u001b[0m \u001b[0;34m\"passthrough\"\u001b[0m\u001b[0;34m:\u001b[0m\u001b[0;34m\u001b[0m\u001b[0;34m\u001b[0m\u001b[0m\n\u001b[1;32m    393\u001b[0m                 \u001b[0mfit_params_last_step\u001b[0m \u001b[0;34m=\u001b[0m \u001b[0mfit_params_steps\u001b[0m\u001b[0;34m[\u001b[0m\u001b[0mself\u001b[0m\u001b[0;34m.\u001b[0m\u001b[0msteps\u001b[0m\u001b[0;34m[\u001b[0m\u001b[0;34m-\u001b[0m\u001b[0;36m1\u001b[0m\u001b[0;34m]\u001b[0m\u001b[0;34m[\u001b[0m\u001b[0;36m0\u001b[0m\u001b[0;34m]\u001b[0m\u001b[0;34m]\u001b[0m\u001b[0;34m\u001b[0m\u001b[0;34m\u001b[0m\u001b[0m\n\u001b[0;32m--> 394\u001b[0;31m                 \u001b[0mself\u001b[0m\u001b[0;34m.\u001b[0m\u001b[0m_final_estimator\u001b[0m\u001b[0;34m.\u001b[0m\u001b[0mfit\u001b[0m\u001b[0;34m(\u001b[0m\u001b[0mXt\u001b[0m\u001b[0;34m,\u001b[0m \u001b[0my\u001b[0m\u001b[0;34m,\u001b[0m \u001b[0;34m**\u001b[0m\u001b[0mfit_params_last_step\u001b[0m\u001b[0;34m)\u001b[0m\u001b[0;34m\u001b[0m\u001b[0;34m\u001b[0m\u001b[0m\n\u001b[0m\u001b[1;32m    395\u001b[0m \u001b[0;34m\u001b[0m\u001b[0m\n\u001b[1;32m    396\u001b[0m         \u001b[0;32mreturn\u001b[0m \u001b[0mself\u001b[0m\u001b[0;34m\u001b[0m\u001b[0;34m\u001b[0m\u001b[0m\n",
      "\u001b[0;32m~/opt/anaconda3/lib/python3.9/site-packages/sklearn/ensemble/_forest.py\u001b[0m in \u001b[0;36mfit\u001b[0;34m(self, X, y, sample_weight)\u001b[0m\n\u001b[1;32m    448\u001b[0m             \u001b[0;31m# parallel_backend contexts set at a higher level,\u001b[0m\u001b[0;34m\u001b[0m\u001b[0;34m\u001b[0m\u001b[0m\n\u001b[1;32m    449\u001b[0m             \u001b[0;31m# since correctness does not rely on using threads.\u001b[0m\u001b[0;34m\u001b[0m\u001b[0;34m\u001b[0m\u001b[0m\n\u001b[0;32m--> 450\u001b[0;31m             trees = Parallel(\n\u001b[0m\u001b[1;32m    451\u001b[0m                 \u001b[0mn_jobs\u001b[0m\u001b[0;34m=\u001b[0m\u001b[0mself\u001b[0m\u001b[0;34m.\u001b[0m\u001b[0mn_jobs\u001b[0m\u001b[0;34m,\u001b[0m\u001b[0;34m\u001b[0m\u001b[0;34m\u001b[0m\u001b[0m\n\u001b[1;32m    452\u001b[0m                 \u001b[0mverbose\u001b[0m\u001b[0;34m=\u001b[0m\u001b[0mself\u001b[0m\u001b[0;34m.\u001b[0m\u001b[0mverbose\u001b[0m\u001b[0;34m,\u001b[0m\u001b[0;34m\u001b[0m\u001b[0;34m\u001b[0m\u001b[0m\n",
      "\u001b[0;32m~/opt/anaconda3/lib/python3.9/site-packages/joblib/parallel.py\u001b[0m in \u001b[0;36m__call__\u001b[0;34m(self, iterable)\u001b[0m\n\u001b[1;32m   1044\u001b[0m                 \u001b[0mself\u001b[0m\u001b[0;34m.\u001b[0m\u001b[0m_iterating\u001b[0m \u001b[0;34m=\u001b[0m \u001b[0mself\u001b[0m\u001b[0;34m.\u001b[0m\u001b[0m_original_iterator\u001b[0m \u001b[0;32mis\u001b[0m \u001b[0;32mnot\u001b[0m \u001b[0;32mNone\u001b[0m\u001b[0;34m\u001b[0m\u001b[0;34m\u001b[0m\u001b[0m\n\u001b[1;32m   1045\u001b[0m \u001b[0;34m\u001b[0m\u001b[0m\n\u001b[0;32m-> 1046\u001b[0;31m             \u001b[0;32mwhile\u001b[0m \u001b[0mself\u001b[0m\u001b[0;34m.\u001b[0m\u001b[0mdispatch_one_batch\u001b[0m\u001b[0;34m(\u001b[0m\u001b[0miterator\u001b[0m\u001b[0;34m)\u001b[0m\u001b[0;34m:\u001b[0m\u001b[0;34m\u001b[0m\u001b[0;34m\u001b[0m\u001b[0m\n\u001b[0m\u001b[1;32m   1047\u001b[0m                 \u001b[0;32mpass\u001b[0m\u001b[0;34m\u001b[0m\u001b[0;34m\u001b[0m\u001b[0m\n\u001b[1;32m   1048\u001b[0m \u001b[0;34m\u001b[0m\u001b[0m\n",
      "\u001b[0;32m~/opt/anaconda3/lib/python3.9/site-packages/joblib/parallel.py\u001b[0m in \u001b[0;36mdispatch_one_batch\u001b[0;34m(self, iterator)\u001b[0m\n\u001b[1;32m    859\u001b[0m                 \u001b[0;32mreturn\u001b[0m \u001b[0;32mFalse\u001b[0m\u001b[0;34m\u001b[0m\u001b[0;34m\u001b[0m\u001b[0m\n\u001b[1;32m    860\u001b[0m             \u001b[0;32melse\u001b[0m\u001b[0;34m:\u001b[0m\u001b[0;34m\u001b[0m\u001b[0;34m\u001b[0m\u001b[0m\n\u001b[0;32m--> 861\u001b[0;31m                 \u001b[0mself\u001b[0m\u001b[0;34m.\u001b[0m\u001b[0m_dispatch\u001b[0m\u001b[0;34m(\u001b[0m\u001b[0mtasks\u001b[0m\u001b[0;34m)\u001b[0m\u001b[0;34m\u001b[0m\u001b[0;34m\u001b[0m\u001b[0m\n\u001b[0m\u001b[1;32m    862\u001b[0m                 \u001b[0;32mreturn\u001b[0m \u001b[0;32mTrue\u001b[0m\u001b[0;34m\u001b[0m\u001b[0;34m\u001b[0m\u001b[0m\n\u001b[1;32m    863\u001b[0m \u001b[0;34m\u001b[0m\u001b[0m\n",
      "\u001b[0;32m~/opt/anaconda3/lib/python3.9/site-packages/joblib/parallel.py\u001b[0m in \u001b[0;36m_dispatch\u001b[0;34m(self, batch)\u001b[0m\n\u001b[1;32m    777\u001b[0m         \u001b[0;32mwith\u001b[0m \u001b[0mself\u001b[0m\u001b[0;34m.\u001b[0m\u001b[0m_lock\u001b[0m\u001b[0;34m:\u001b[0m\u001b[0;34m\u001b[0m\u001b[0;34m\u001b[0m\u001b[0m\n\u001b[1;32m    778\u001b[0m             \u001b[0mjob_idx\u001b[0m \u001b[0;34m=\u001b[0m \u001b[0mlen\u001b[0m\u001b[0;34m(\u001b[0m\u001b[0mself\u001b[0m\u001b[0;34m.\u001b[0m\u001b[0m_jobs\u001b[0m\u001b[0;34m)\u001b[0m\u001b[0;34m\u001b[0m\u001b[0;34m\u001b[0m\u001b[0m\n\u001b[0;32m--> 779\u001b[0;31m             \u001b[0mjob\u001b[0m \u001b[0;34m=\u001b[0m \u001b[0mself\u001b[0m\u001b[0;34m.\u001b[0m\u001b[0m_backend\u001b[0m\u001b[0;34m.\u001b[0m\u001b[0mapply_async\u001b[0m\u001b[0;34m(\u001b[0m\u001b[0mbatch\u001b[0m\u001b[0;34m,\u001b[0m \u001b[0mcallback\u001b[0m\u001b[0;34m=\u001b[0m\u001b[0mcb\u001b[0m\u001b[0;34m)\u001b[0m\u001b[0;34m\u001b[0m\u001b[0;34m\u001b[0m\u001b[0m\n\u001b[0m\u001b[1;32m    780\u001b[0m             \u001b[0;31m# A job can complete so quickly than its callback is\u001b[0m\u001b[0;34m\u001b[0m\u001b[0;34m\u001b[0m\u001b[0m\n\u001b[1;32m    781\u001b[0m             \u001b[0;31m# called before we get here, causing self._jobs to\u001b[0m\u001b[0;34m\u001b[0m\u001b[0;34m\u001b[0m\u001b[0m\n",
      "\u001b[0;32m~/opt/anaconda3/lib/python3.9/site-packages/joblib/_parallel_backends.py\u001b[0m in \u001b[0;36mapply_async\u001b[0;34m(self, func, callback)\u001b[0m\n\u001b[1;32m    206\u001b[0m     \u001b[0;32mdef\u001b[0m \u001b[0mapply_async\u001b[0m\u001b[0;34m(\u001b[0m\u001b[0mself\u001b[0m\u001b[0;34m,\u001b[0m \u001b[0mfunc\u001b[0m\u001b[0;34m,\u001b[0m \u001b[0mcallback\u001b[0m\u001b[0;34m=\u001b[0m\u001b[0;32mNone\u001b[0m\u001b[0;34m)\u001b[0m\u001b[0;34m:\u001b[0m\u001b[0;34m\u001b[0m\u001b[0;34m\u001b[0m\u001b[0m\n\u001b[1;32m    207\u001b[0m         \u001b[0;34m\"\"\"Schedule a func to be run\"\"\"\u001b[0m\u001b[0;34m\u001b[0m\u001b[0;34m\u001b[0m\u001b[0m\n\u001b[0;32m--> 208\u001b[0;31m         \u001b[0mresult\u001b[0m \u001b[0;34m=\u001b[0m \u001b[0mImmediateResult\u001b[0m\u001b[0;34m(\u001b[0m\u001b[0mfunc\u001b[0m\u001b[0;34m)\u001b[0m\u001b[0;34m\u001b[0m\u001b[0;34m\u001b[0m\u001b[0m\n\u001b[0m\u001b[1;32m    209\u001b[0m         \u001b[0;32mif\u001b[0m \u001b[0mcallback\u001b[0m\u001b[0;34m:\u001b[0m\u001b[0;34m\u001b[0m\u001b[0;34m\u001b[0m\u001b[0m\n\u001b[1;32m    210\u001b[0m             \u001b[0mcallback\u001b[0m\u001b[0;34m(\u001b[0m\u001b[0mresult\u001b[0m\u001b[0;34m)\u001b[0m\u001b[0;34m\u001b[0m\u001b[0;34m\u001b[0m\u001b[0m\n",
      "\u001b[0;32m~/opt/anaconda3/lib/python3.9/site-packages/joblib/_parallel_backends.py\u001b[0m in \u001b[0;36m__init__\u001b[0;34m(self, batch)\u001b[0m\n\u001b[1;32m    570\u001b[0m         \u001b[0;31m# Don't delay the application, to avoid keeping the input\u001b[0m\u001b[0;34m\u001b[0m\u001b[0;34m\u001b[0m\u001b[0m\n\u001b[1;32m    571\u001b[0m         \u001b[0;31m# arguments in memory\u001b[0m\u001b[0;34m\u001b[0m\u001b[0;34m\u001b[0m\u001b[0m\n\u001b[0;32m--> 572\u001b[0;31m         \u001b[0mself\u001b[0m\u001b[0;34m.\u001b[0m\u001b[0mresults\u001b[0m \u001b[0;34m=\u001b[0m \u001b[0mbatch\u001b[0m\u001b[0;34m(\u001b[0m\u001b[0;34m)\u001b[0m\u001b[0;34m\u001b[0m\u001b[0;34m\u001b[0m\u001b[0m\n\u001b[0m\u001b[1;32m    573\u001b[0m \u001b[0;34m\u001b[0m\u001b[0m\n\u001b[1;32m    574\u001b[0m     \u001b[0;32mdef\u001b[0m \u001b[0mget\u001b[0m\u001b[0;34m(\u001b[0m\u001b[0mself\u001b[0m\u001b[0;34m)\u001b[0m\u001b[0;34m:\u001b[0m\u001b[0;34m\u001b[0m\u001b[0;34m\u001b[0m\u001b[0m\n",
      "\u001b[0;32m~/opt/anaconda3/lib/python3.9/site-packages/joblib/parallel.py\u001b[0m in \u001b[0;36m__call__\u001b[0;34m(self)\u001b[0m\n\u001b[1;32m    260\u001b[0m         \u001b[0;31m# change the default number of processes to -1\u001b[0m\u001b[0;34m\u001b[0m\u001b[0;34m\u001b[0m\u001b[0m\n\u001b[1;32m    261\u001b[0m         \u001b[0;32mwith\u001b[0m \u001b[0mparallel_backend\u001b[0m\u001b[0;34m(\u001b[0m\u001b[0mself\u001b[0m\u001b[0;34m.\u001b[0m\u001b[0m_backend\u001b[0m\u001b[0;34m,\u001b[0m \u001b[0mn_jobs\u001b[0m\u001b[0;34m=\u001b[0m\u001b[0mself\u001b[0m\u001b[0;34m.\u001b[0m\u001b[0m_n_jobs\u001b[0m\u001b[0;34m)\u001b[0m\u001b[0;34m:\u001b[0m\u001b[0;34m\u001b[0m\u001b[0;34m\u001b[0m\u001b[0m\n\u001b[0;32m--> 262\u001b[0;31m             return [func(*args, **kwargs)\n\u001b[0m\u001b[1;32m    263\u001b[0m                     for func, args, kwargs in self.items]\n\u001b[1;32m    264\u001b[0m \u001b[0;34m\u001b[0m\u001b[0m\n",
      "\u001b[0;32m~/opt/anaconda3/lib/python3.9/site-packages/joblib/parallel.py\u001b[0m in \u001b[0;36m<listcomp>\u001b[0;34m(.0)\u001b[0m\n\u001b[1;32m    260\u001b[0m         \u001b[0;31m# change the default number of processes to -1\u001b[0m\u001b[0;34m\u001b[0m\u001b[0;34m\u001b[0m\u001b[0m\n\u001b[1;32m    261\u001b[0m         \u001b[0;32mwith\u001b[0m \u001b[0mparallel_backend\u001b[0m\u001b[0;34m(\u001b[0m\u001b[0mself\u001b[0m\u001b[0;34m.\u001b[0m\u001b[0m_backend\u001b[0m\u001b[0;34m,\u001b[0m \u001b[0mn_jobs\u001b[0m\u001b[0;34m=\u001b[0m\u001b[0mself\u001b[0m\u001b[0;34m.\u001b[0m\u001b[0m_n_jobs\u001b[0m\u001b[0;34m)\u001b[0m\u001b[0;34m:\u001b[0m\u001b[0;34m\u001b[0m\u001b[0;34m\u001b[0m\u001b[0m\n\u001b[0;32m--> 262\u001b[0;31m             return [func(*args, **kwargs)\n\u001b[0m\u001b[1;32m    263\u001b[0m                     for func, args, kwargs in self.items]\n\u001b[1;32m    264\u001b[0m \u001b[0;34m\u001b[0m\u001b[0m\n",
      "\u001b[0;32m~/opt/anaconda3/lib/python3.9/site-packages/sklearn/utils/fixes.py\u001b[0m in \u001b[0;36m__call__\u001b[0;34m(self, *args, **kwargs)\u001b[0m\n\u001b[1;32m    214\u001b[0m     \u001b[0;32mdef\u001b[0m \u001b[0m__call__\u001b[0m\u001b[0;34m(\u001b[0m\u001b[0mself\u001b[0m\u001b[0;34m,\u001b[0m \u001b[0;34m*\u001b[0m\u001b[0margs\u001b[0m\u001b[0;34m,\u001b[0m \u001b[0;34m**\u001b[0m\u001b[0mkwargs\u001b[0m\u001b[0;34m)\u001b[0m\u001b[0;34m:\u001b[0m\u001b[0;34m\u001b[0m\u001b[0;34m\u001b[0m\u001b[0m\n\u001b[1;32m    215\u001b[0m         \u001b[0;32mwith\u001b[0m \u001b[0mconfig_context\u001b[0m\u001b[0;34m(\u001b[0m\u001b[0;34m**\u001b[0m\u001b[0mself\u001b[0m\u001b[0;34m.\u001b[0m\u001b[0mconfig\u001b[0m\u001b[0;34m)\u001b[0m\u001b[0;34m:\u001b[0m\u001b[0;34m\u001b[0m\u001b[0;34m\u001b[0m\u001b[0m\n\u001b[0;32m--> 216\u001b[0;31m             \u001b[0;32mreturn\u001b[0m \u001b[0mself\u001b[0m\u001b[0;34m.\u001b[0m\u001b[0mfunction\u001b[0m\u001b[0;34m(\u001b[0m\u001b[0;34m*\u001b[0m\u001b[0margs\u001b[0m\u001b[0;34m,\u001b[0m \u001b[0;34m**\u001b[0m\u001b[0mkwargs\u001b[0m\u001b[0;34m)\u001b[0m\u001b[0;34m\u001b[0m\u001b[0;34m\u001b[0m\u001b[0m\n\u001b[0m\u001b[1;32m    217\u001b[0m \u001b[0;34m\u001b[0m\u001b[0m\n\u001b[1;32m    218\u001b[0m \u001b[0;34m\u001b[0m\u001b[0m\n",
      "\u001b[0;32m~/opt/anaconda3/lib/python3.9/site-packages/sklearn/ensemble/_forest.py\u001b[0m in \u001b[0;36m_parallel_build_trees\u001b[0;34m(tree, forest, X, y, sample_weight, tree_idx, n_trees, verbose, class_weight, n_samples_bootstrap)\u001b[0m\n\u001b[1;32m    183\u001b[0m             \u001b[0mcurr_sample_weight\u001b[0m \u001b[0;34m*=\u001b[0m \u001b[0mcompute_sample_weight\u001b[0m\u001b[0;34m(\u001b[0m\u001b[0;34m\"balanced\"\u001b[0m\u001b[0;34m,\u001b[0m \u001b[0my\u001b[0m\u001b[0;34m,\u001b[0m \u001b[0mindices\u001b[0m\u001b[0;34m=\u001b[0m\u001b[0mindices\u001b[0m\u001b[0;34m)\u001b[0m\u001b[0;34m\u001b[0m\u001b[0;34m\u001b[0m\u001b[0m\n\u001b[1;32m    184\u001b[0m \u001b[0;34m\u001b[0m\u001b[0m\n\u001b[0;32m--> 185\u001b[0;31m         \u001b[0mtree\u001b[0m\u001b[0;34m.\u001b[0m\u001b[0mfit\u001b[0m\u001b[0;34m(\u001b[0m\u001b[0mX\u001b[0m\u001b[0;34m,\u001b[0m \u001b[0my\u001b[0m\u001b[0;34m,\u001b[0m \u001b[0msample_weight\u001b[0m\u001b[0;34m=\u001b[0m\u001b[0mcurr_sample_weight\u001b[0m\u001b[0;34m,\u001b[0m \u001b[0mcheck_input\u001b[0m\u001b[0;34m=\u001b[0m\u001b[0;32mFalse\u001b[0m\u001b[0;34m)\u001b[0m\u001b[0;34m\u001b[0m\u001b[0;34m\u001b[0m\u001b[0m\n\u001b[0m\u001b[1;32m    186\u001b[0m     \u001b[0;32melse\u001b[0m\u001b[0;34m:\u001b[0m\u001b[0;34m\u001b[0m\u001b[0;34m\u001b[0m\u001b[0m\n\u001b[1;32m    187\u001b[0m         \u001b[0mtree\u001b[0m\u001b[0;34m.\u001b[0m\u001b[0mfit\u001b[0m\u001b[0;34m(\u001b[0m\u001b[0mX\u001b[0m\u001b[0;34m,\u001b[0m \u001b[0my\u001b[0m\u001b[0;34m,\u001b[0m \u001b[0msample_weight\u001b[0m\u001b[0;34m=\u001b[0m\u001b[0msample_weight\u001b[0m\u001b[0;34m,\u001b[0m \u001b[0mcheck_input\u001b[0m\u001b[0;34m=\u001b[0m\u001b[0;32mFalse\u001b[0m\u001b[0;34m)\u001b[0m\u001b[0;34m\u001b[0m\u001b[0;34m\u001b[0m\u001b[0m\n",
      "\u001b[0;32m~/opt/anaconda3/lib/python3.9/site-packages/sklearn/tree/_classes.py\u001b[0m in \u001b[0;36mfit\u001b[0;34m(self, X, y, sample_weight, check_input, X_idx_sorted)\u001b[0m\n\u001b[1;32m    935\u001b[0m         \"\"\"\n\u001b[1;32m    936\u001b[0m \u001b[0;34m\u001b[0m\u001b[0m\n\u001b[0;32m--> 937\u001b[0;31m         super().fit(\n\u001b[0m\u001b[1;32m    938\u001b[0m             \u001b[0mX\u001b[0m\u001b[0;34m,\u001b[0m\u001b[0;34m\u001b[0m\u001b[0;34m\u001b[0m\u001b[0m\n\u001b[1;32m    939\u001b[0m             \u001b[0my\u001b[0m\u001b[0;34m,\u001b[0m\u001b[0;34m\u001b[0m\u001b[0;34m\u001b[0m\u001b[0m\n",
      "\u001b[0;32m~/opt/anaconda3/lib/python3.9/site-packages/sklearn/tree/_classes.py\u001b[0m in \u001b[0;36mfit\u001b[0;34m(self, X, y, sample_weight, check_input, X_idx_sorted)\u001b[0m\n\u001b[1;32m    418\u001b[0m             )\n\u001b[1;32m    419\u001b[0m \u001b[0;34m\u001b[0m\u001b[0m\n\u001b[0;32m--> 420\u001b[0;31m         \u001b[0mbuilder\u001b[0m\u001b[0;34m.\u001b[0m\u001b[0mbuild\u001b[0m\u001b[0;34m(\u001b[0m\u001b[0mself\u001b[0m\u001b[0;34m.\u001b[0m\u001b[0mtree_\u001b[0m\u001b[0;34m,\u001b[0m \u001b[0mX\u001b[0m\u001b[0;34m,\u001b[0m \u001b[0my\u001b[0m\u001b[0;34m,\u001b[0m \u001b[0msample_weight\u001b[0m\u001b[0;34m)\u001b[0m\u001b[0;34m\u001b[0m\u001b[0;34m\u001b[0m\u001b[0m\n\u001b[0m\u001b[1;32m    421\u001b[0m \u001b[0;34m\u001b[0m\u001b[0m\n\u001b[1;32m    422\u001b[0m         \u001b[0;32mif\u001b[0m \u001b[0mself\u001b[0m\u001b[0;34m.\u001b[0m\u001b[0mn_outputs_\u001b[0m \u001b[0;34m==\u001b[0m \u001b[0;36m1\u001b[0m \u001b[0;32mand\u001b[0m \u001b[0mis_classifier\u001b[0m\u001b[0;34m(\u001b[0m\u001b[0mself\u001b[0m\u001b[0;34m)\u001b[0m\u001b[0;34m:\u001b[0m\u001b[0;34m\u001b[0m\u001b[0;34m\u001b[0m\u001b[0m\n",
      "\u001b[0;31mKeyboardInterrupt\u001b[0m: "
     ]
    }
   ],
   "source": [
    "from sklearn.model_selection import GridSearchCV\n",
    "\n",
    "parameteres = {'RandomForest__n_estimators':[100,200,500], 'RandomForest__criterion':['gini','entropy']}\n",
    "grid = GridSearchCV(pipeline, param_grid=parameteres, cv=5)\n",
    "grid.fit(X_train, y_train)\n",
    "print(grid.score(X_test,y_test))\n",
    "print(grid.best_params_)"
   ]
  },
  {
   "cell_type": "markdown",
   "id": "e9e23f0d",
   "metadata": {},
   "source": [
    "## Exercici 2\n",
    "Agafa un text en anglès que vulguis, i calcula'n la freqüència de les paraules"
   ]
  },
  {
   "cell_type": "markdown",
   "id": "db433536",
   "metadata": {},
   "source": [
    "Fuente del texto: https://theconversation.com/altruism-in-birds-magpies-have-outwitted-scientists-by-helping-each-other-remove-tracking-devices-175246"
   ]
  },
  {
   "cell_type": "code",
   "execution_count": 183,
   "id": "05e1b0ac",
   "metadata": {},
   "outputs": [
    {
     "name": "stdout",
     "output_type": "stream",
     "text": [
      "['When we attached tiny, backpack-like tracking devices to five Australian magpies for a pilot study, we didn’t expect to discover an entirely new social behaviour rarely seen in birds.\\n', '\\n', 'Our goal was to learn more about the movement and social dynamics of these highly intelligent birds, and to test these new, durable and reusable devices. Instead, the birds outsmarted us.\\n', '\\n', 'As our new research paper explains, the magpies began showing evidence of cooperative “rescue” behaviour to help each other remove the tracker.\\n', '\\n', 'While we’re familiar with magpies being intelligent and social creatures, this was the first instance we knew of that showed this type of seemingly altruistic behaviour: helping another member of the group without getting an immediate, tangible reward.\\n', '\\n', 'Testing exciting new devices\\n', 'As academic scientists, we’re accustomed to experiments going awry in one way or another. Expired substances, failing equipment, contaminated samples, an unplanned power outage – these can all set back months (or even years) of carefully planned research.\\n', '\\n', 'For those of us who study animals, and especially behaviour, unpredictability is part of the job description. This is the reason we often require pilot studies.\\n', '\\n', 'Our pilot study was one of the first of its kind – most trackers are too big to fit on medium to small birds, and those that do tend to have very limited capacity for data storage or battery life. They also tend to be single-use only.\\n', '\\n', 'A novel aspect of our research was the design of the harness that held the tracker. We devised a method that didn’t require birds to be caught again to download precious data or reuse the small devices.\\n', '\\n', 'We trained a group of local magpies to come to an outdoor, ground feeding “station” that could either wirelessly charge the battery of the tracker, download data, or release the tracker and harness by using a magnet.\\n', '\\n', 'The harness was tough, with only one weak point where the magnet could function. To remove the harness, one needed that magnet, or some really good scissors. We were excited by the design, as it opened up many possibilities for efficiency and enabled a lot of data to be collected.\\n', '\\n', 'We wanted to see if the new design would work as planned, and discover what kind of data we could gather. How far did magpies go? Did they have patterns or schedules throughout the day in terms of movement, and socialising? How did age, sex or dominance rank affect their activities?\\n', '\\n', 'All this could be uncovered using the tiny trackers – weighing less than one gram – we successfully fitted five of the magpies with. All we had to do was wait, and watch, and then lure the birds back to the station to gather the valuable data.\\n', '\\n', 'It was not to be\\n', 'Many animals that live in societies cooperate with one another to ensure the health, safety and survival of the group. In fact, cognitive ability and social cooperation has been found to correlate. Animals living in larger groups tend to have an increased capacity for problem solving, such as hyenas, spotted wrasse, and house sparrows.\\n', '\\n', 'Australian magpies are no exception. As a generalist species that excels in problem solving, it has adapted well to the extreme changes to their habitat from humans.\\n', '\\n', 'Australian magpies generally live in social groups of between two and 12 individuals, cooperatively occupying and defending their territory through song choruses and aggressive behaviours (such as swooping). These birds also breed cooperatively, with older siblings helping to raise young.\\n', '\\n', 'During our pilot study, we found out how quickly magpies team up to solve a group problem. Within ten minutes of fitting the final tracker, we witnessed an adult female without a tracker working with her bill to try and remove the harness off of a younger bird.\\n', '\\n', 'Within hours, most of the other trackers had been removed. By day 3, even the dominant male of the group had its tracker successfully dismantled.\\n', '\\n', 'We don’t know if it was the same individual helping each other or if they shared duties, but we had never read about any other bird cooperating in this way to remove tracking devices.\\n', '\\n', 'The birds needed to problem solve, possibly testing at pulling and snipping at different sections of the harness with their bill. They also needed to willingly help other individuals, and accept help.\\n', '\\n', 'The only other similar example of this type of behaviour we could find in the literature was that of Seychelles warblers helping release others in their social group from sticky Pisonia seed clusters. This is a very rare behaviour termed “rescuing”.\\n', '\\n', 'Saving magpies\\n', 'So far, most bird species that have been tracked haven’t necessarily been very social or considered to be cognitive problem solvers, such as waterfowl and raptors. We never considered the magpies may perceive the tracker as some kind of parasite that requires removal.\\n', '\\n', 'Tracking magpies is crucial for conservation efforts, as these birds are vulnerable to the increasing frequency and intensity of heatwaves under climate change.\\n', '\\n', 'In a study published this week, Perth researchers showed the survival rate of magpie chicks in heatwaves can be as low as 10%.\\n', '\\n', 'Importantly, they also found that higher temperatures resulted in lower cognitive performance for tasks such as foraging. This might mean cooperative behaviours become even more important in a continuously warming climate.\\n', '\\n', 'Just like magpies, we scientists are always learning to problem solve. Now we need to go back to the drawing board to find ways of collecting more vital behavioural data to help magpies survive in a changing world.']\n"
     ]
    }
   ],
   "source": [
    "text_birds = open(\"birds.txt\", \"r\")\n",
    "print(text_birds.readlines())"
   ]
  },
  {
   "cell_type": "markdown",
   "id": "0f635329",
   "metadata": {},
   "source": [
    "En primer lugar, extraigo todas las palabras del texto"
   ]
  },
  {
   "cell_type": "code",
   "execution_count": 184,
   "id": "1559a677",
   "metadata": {},
   "outputs": [
    {
     "name": "stdout",
     "output_type": "stream",
     "text": [
      "['when', 'we', 'attached', 'tiny', 'backpacklike', 'tracking', 'devices', 'to', 'five', 'australian', 'magpies', 'for', 'a', 'pilot', 'study', 'we', 'didn', 't', 'expect', 'to', 'discover', 'an', 'entirely', 'new', 'social', 'behaviour', 'rarely', 'seen', 'in', 'birds', 'our', 'goal', 'was', 'to', 'learn', 'more', 'about', 'the', 'movement', 'and', 'social', 'dynamics', 'of', 'these', 'highly', 'intelligent', 'birds', 'and', 'to', 'test', 'these', 'new', 'durable', 'and', 'reusable', 'devices', 'instead', 'the', 'birds', 'outsmarted', 'us', 'as', 'our', 'new', 'research', 'paper', 'explains', 'the', 'magpies', 'began', 'showing', 'evidence', 'of', 'cooperative', 'rescue', 'behaviour', 'to', 'help', 'each', 'other', 'remove', 'the', 'tracker', 'while', 'we', 're', 'familiar', 'with', 'magpies', 'being', 'intelligent', 'and', 'social', 'creatures', 'this', 'was', 'the', 'first', 'instance', 'we', 'knew', 'of', 'that', 'showed', 'this', 'type', 'of', 'seemingly', 'altruistic', 'behaviour', 'helping', 'another', 'member', 'of', 'the', 'group', 'without', 'getting', 'an', 'immediate', 'tangible', 'reward', 'testing', 'exciting', 'new', 'devices', 'as', 'academic', 'scientists', 'we', 're', 'accustomed', 'to', 'experiments', 'going', 'awry', 'in', 'one', 'way', 'or', 'another', 'expired', 'substances', 'failing', 'equipment', 'contaminated', 'samples', 'an', 'unplanned', 'power', 'outage', 'these', 'can', 'all', 'set', 'back', 'months', 'or', 'even', 'years', 'of', 'carefully', 'planned', 'research', 'for', 'those', 'of', 'us', 'who', 'study', 'animals', 'and', 'especially', 'behaviour', 'unpredictability', 'is', 'part', 'of', 'the', 'job', 'description', 'this', 'is', 'the', 'reason', 'we', 'often', 'require', 'pilot', 'studies', 'our', 'pilot', 'study', 'was', 'one', 'of', 'the', 'first', 'of', 'its', 'kind', 'most', 'trackers', 'are', 'too', 'big', 'to', 'fit', 'on', 'medium', 'to', 'small', 'birds', 'and', 'those', 'that', 'do', 'tend', 'to', 'have', 'very', 'limited', 'capacity', 'for', 'data', 'storage', 'or', 'battery', 'life', 'they', 'also', 'tend', 'to', 'be', 'singleuse', 'only', 'a', 'novel', 'aspect', 'of', 'our', 'research', 'was', 'the', 'design', 'of', 'the', 'harness', 'that', 'held', 'the', 'tracker', 'we', 'devised', 'a', 'method', 'that', 'didn', 't', 'require', 'birds', 'to', 'be', 'caught', 'again', 'to', 'download', 'precious', 'data', 'or', 'reuse', 'the', 'small', 'devices', 'we', 'trained', 'a', 'group', 'of', 'local', 'magpies', 'to', 'come', 'to', 'an', 'outdoor', 'ground', 'feeding', 'station', 'that', 'could', 'either', 'wirelessly', 'charge', 'the', 'battery', 'of', 'the', 'tracker', 'download', 'data', 'or', 'release', 'the', 'tracker', 'and', 'harness', 'by', 'using', 'a', 'magnet', 'the', 'harness', 'was', 'tough', 'with', 'only', 'one', 'weak', 'point', 'where', 'the', 'magnet', 'could', 'function', 'to', 'remove', 'the', 'harness', 'one', 'needed', 'that', 'magnet', 'or', 'some', 'really', 'good', 'scissors', 'we', 'were', 'excited', 'by', 'the', 'design', 'as', 'it', 'opened', 'up', 'many', 'possibilities', 'for', 'efficiency', 'and', 'enabled', 'a', 'lot', 'of', 'data', 'to', 'be', 'collected', 'we', 'wanted', 'to', 'see', 'if', 'the', 'new', 'design', 'would', 'work', 'as', 'planned', 'and', 'discover', 'what', 'kind', 'of', 'data', 'we', 'could', 'gather', 'how', 'far', 'did', 'magpies', 'go', 'did', 'they', 'have', 'patterns', 'or', 'schedules', 'throughout', 'the', 'day', 'in', 'terms', 'of', 'movement', 'and', 'socialising', 'how', 'did', 'age', 'sex', 'or', 'dominance', 'rank', 'affect', 'their', 'activities', 'all', 'this', 'could', 'be', 'uncovered', 'using', 'the', 'tiny', 'trackers', 'weighing', 'less', 'than', 'one', 'gram', 'we', 'successfully', 'fitted', 'five', 'of', 'the', 'magpies', 'with', 'all', 'we', 'had', 'to', 'do', 'was', 'wait', 'and', 'watch', 'and', 'then', 'lure', 'the', 'birds', 'back', 'to', 'the', 'station', 'to', 'gather', 'the', 'valuable', 'data', 'it', 'was', 'not', 'to', 'be', 'many', 'animals', 'that', 'live', 'in', 'societies', 'cooperate', 'with', 'one', 'another', 'to', 'ensure', 'the', 'health', 'safety', 'and', 'survival', 'of', 'the', 'group', 'in', 'fact', 'cognitive', 'ability', 'and', 'social', 'cooperation', 'has', 'been', 'found', 'to', 'correlate', 'animals', 'living', 'in', 'larger', 'groups', 'tend', 'to', 'have', 'an', 'increased', 'capacity', 'for', 'problem', 'solving', 'such', 'as', 'hyenas', 'spotted', 'wrasse', 'and', 'house', 'sparrows', 'australian', 'magpies', 'are', 'no', 'exception', 'as', 'a', 'generalist', 'species', 'that', 'excels', 'in', 'problem', 'solving', 'it', 'has', 'adapted', 'well', 'to', 'the', 'extreme', 'changes', 'to', 'their', 'habitat', 'from', 'humans', 'australian', 'magpies', 'generally', 'live', 'in', 'social', 'groups', 'of', 'between', 'two', 'and', '12', 'individuals', 'cooperatively', 'occupying', 'and', 'defending', 'their', 'territory', 'through', 'song', 'choruses', 'and', 'aggressive', 'behaviours', 'such', 'as', 'swooping', 'these', 'birds', 'also', 'breed', 'cooperatively', 'with', 'older', 'siblings', 'helping', 'to', 'raise', 'young', 'during', 'our', 'pilot', 'study', 'we', 'found', 'out', 'how', 'quickly', 'magpies', 'team', 'up', 'to', 'solve', 'a', 'group', 'problem', 'within', 'ten', 'minutes', 'of', 'fitting', 'the', 'final', 'tracker', 'we', 'witnessed', 'an', 'adult', 'female', 'without', 'a', 'tracker', 'working', 'with', 'her', 'bill', 'to', 'try', 'and', 'remove', 'the', 'harness', 'off', 'of', 'a', 'younger', 'bird', 'within', 'hours', 'most', 'of', 'the', 'other', 'trackers', 'had', 'been', 'removed', 'by', 'day', '3', 'even', 'the', 'dominant', 'male', 'of', 'the', 'group', 'had', 'its', 'tracker', 'successfully', 'dismantled', 'we', 'don', 't', 'know', 'if', 'it', 'was', 'the', 'same', 'individual', 'helping', 'each', 'other', 'or', 'if', 'they', 'shared', 'duties', 'but', 'we', 'had', 'never', 'read', 'about', 'any', 'other', 'bird', 'cooperating', 'in', 'this', 'way', 'to', 'remove', 'tracking', 'devices', 'the', 'birds', 'needed', 'to', 'problem', 'solve', 'possibly', 'testing', 'at', 'pulling', 'and', 'snipping', 'at', 'different', 'sections', 'of', 'the', 'harness', 'with', 'their', 'bill', 'they', 'also', 'needed', 'to', 'willingly', 'help', 'other', 'individuals', 'and', 'accept', 'help', 'the', 'only', 'other', 'similar', 'example', 'of', 'this', 'type', 'of', 'behaviour', 'we', 'could', 'find', 'in', 'the', 'literature', 'was', 'that', 'of', 'seychelles', 'warblers', 'helping', 'release', 'others', 'in', 'their', 'social', 'group', 'from', 'sticky', 'pisonia', 'seed', 'clusters', 'this', 'is', 'a', 'very', 'rare', 'behaviour', 'termed', 'rescuing', 'saving', 'magpies', 'so', 'far', 'most', 'bird', 'species', 'that', 'have', 'been', 'tracked', 'haven', 't', 'necessarily', 'been', 'very', 'social', 'or', 'considered', 'to', 'be', 'cognitive', 'problem', 'solvers', 'such', 'as', 'waterfowl', 'and', 'raptors', 'we', 'never', 'considered', 'the', 'magpies', 'may', 'perceive', 'the', 'tracker', 'as', 'some', 'kind', 'of', 'parasite', 'that', 'requires', 'removal', 'tracking', 'magpies', 'is', 'crucial', 'for', 'conservation', 'efforts', 'as', 'these', 'birds', 'are', 'vulnerable', 'to', 'the', 'increasing', 'frequency', 'and', 'intensity', 'of', 'heatwaves', 'under', 'climate', 'change', 'in', 'a', 'study', 'published', 'this', 'week', 'perth', 'researchers', 'showed', 'the', 'survival', 'rate', 'of', 'magpie', 'chicks', 'in', 'heatwaves', 'can', 'be', 'as', 'low', 'as', '10', 'importantly', 'they', 'also', 'found', 'that', 'higher', 'temperatures', 'resulted', 'in', 'lower', 'cognitive', 'performance', 'for', 'tasks', 'such', 'as', 'foraging', 'this', 'might', 'mean', 'cooperative', 'behaviours', 'become', 'even', 'more', 'important', 'in', 'a', 'continuously', 'warming', 'climate', 'just', 'like', 'magpies', 'we', 'scientists', 'are', 'always', 'learning', 'to', 'problem', 'solve', 'now', 'we', 'need', 'to', 'go', 'back', 'to', 'the', 'drawing', 'board', 'to', 'find', 'ways', 'of', 'collecting', 'more', 'vital', 'behavioural', 'data', 'to', 'help', 'magpies', 'survive', 'in', 'a', 'changing', 'world']\n"
     ]
    }
   ],
   "source": [
    "from nltk.tokenize import word_tokenize, sent_tokenize\n",
    "import re\n",
    "\n",
    "tokens = [] # Lista contenedora de todos los tokens del texto\n",
    "\n",
    "with open('birds.txt', 'r') as text_birds:\n",
    "    sent_tokenized_text = sent_tokenize(text_birds.read()) # Divido el texto en oraciones\n",
    "    for sentence in sent_tokenized_text:\n",
    "        if sentence != '\\n': # Hay líneas que contienen los espacios entre párrafos, así que las ignoro\n",
    "            word_tokenized_text = word_tokenize(sentence) # Tokenizo cada oración\n",
    "            for word in word_tokenized_text: \n",
    "                word = word.lower()\n",
    "                word = re.sub(r'[^\\w\\s]', '', word) # Impido que los signos de puntuación sean incluidos como tokens\n",
    "                if word != '':\n",
    "                    tokens.append(word)\n",
    "\n",
    "print(tokens)"
   ]
  },
  {
   "cell_type": "markdown",
   "id": "2633356e",
   "metadata": {},
   "source": [
    "Ahora puedo calcular la frecuencia de cada una de las palabras que aparecen en el texto"
   ]
  },
  {
   "cell_type": "code",
   "execution_count": 185,
   "id": "9f47e5b7",
   "metadata": {},
   "outputs": [
    {
     "data": {
      "image/png": "[encoded data removed]",
      "text/plain": [
       "<Figure size 432x288 with 1 Axes>"
      ]
     },
     "metadata": {
      "needs_background": "light"
     },
     "output_type": "display_data"
    }
   ],
   "source": [
    "from nltk.probability import FreqDist\n",
    "import matplotlib.pyplot as plt\n",
    "\n",
    "fdist = FreqDist(tokens)\n",
    "\n",
    "fdist.plot(len(fdist),cumulative=False)\n",
    "plt.show()"
   ]
  },
  {
   "cell_type": "markdown",
   "id": "f0724f5c",
   "metadata": {},
   "source": [
    "Visualizar la frecuencia de cada palabra a través de un gráfico no es una opción viable, ya que existen demasiadas muestras. Sin embargo, podemos hacernos una pequela idea tomando solo 40."
   ]
  },
  {
   "cell_type": "code",
   "execution_count": 186,
   "id": "ef156a59",
   "metadata": {},
   "outputs": [
    {
     "data": {
      "image/png": "[encoded data removed]",
      "text/plain": [
       "<Figure size 432x288 with 1 Axes>"
      ]
     },
     "metadata": {
      "needs_background": "light"
     },
     "output_type": "display_data"
    },
    {
     "data": {
      "text/plain": [
       "<Figure size 2160x7200 with 0 Axes>"
      ]
     },
     "metadata": {},
     "output_type": "display_data"
    }
   ],
   "source": [
    "fdist.plot(40,cumulative=False)\n",
    "plt.figure(figsize=(30,100))\n",
    "plt.show()"
   ]
  },
  {
   "cell_type": "markdown",
   "id": "54886b4c",
   "metadata": {},
   "source": [
    "También podemos adquirir más información acerca de las palabras del texto comprobando cuáles son las que más aparecen"
   ]
  },
  {
   "cell_type": "code",
   "execution_count": 187,
   "id": "72ed699e",
   "metadata": {},
   "outputs": [
    {
     "name": "stdout",
     "output_type": "stream",
     "text": [
      "the: 45\n",
      "to: 39\n",
      "of: 32\n",
      "and: 23\n",
      "we: 21\n",
      "in: 16\n",
      "magpies: 14\n",
      "a: 14\n",
      "as: 13\n",
      "that: 12\n"
     ]
    }
   ],
   "source": [
    "for word, freq in fdist.most_common(10):\n",
    "    print(f\"{word}: {freq}\")"
   ]
  },
  {
   "cell_type": "markdown",
   "id": "42128eb2",
   "metadata": {},
   "source": [
    "Como podemos ver, entre estas palabras hay sobre todo artículos, preposiciones y conectores. Son palabras \"comodín\", que tienen significados muy flexibles o ambiguos y que sirven para unir palabras entre sí. Por tanto, las palabras más frecuentes del texto no nos aportan mucha información acerca de su contenido."
   ]
  },
  {
   "cell_type": "markdown",
   "id": "a39962b5",
   "metadata": {},
   "source": [
    "## Exercici 3\n",
    "Treu les stopwords i realitza stemming al teu conjunt de dades."
   ]
  },
  {
   "cell_type": "markdown",
   "id": "dffab344",
   "metadata": {},
   "source": [
    "Para obtener más información acerca del contenido del texto, elimino las \"stopwords\" del conjunto de tokens. De esta forma, podré analizar las palabras restantes, las cuales no son de uso genérico, y así obtener idea más concreta del contenido del texto."
   ]
  },
  {
   "cell_type": "code",
   "execution_count": 337,
   "id": "4f85b8cf",
   "metadata": {},
   "outputs": [],
   "source": [
    "from nltk.corpus import stopwords\n",
    "\n",
    "stop_words = set(stopwords.words(\"english\"))\n",
    "\n",
    "tokens_without_stopwords = []\n",
    "\n",
    "for token in tokens:\n",
    "    if token not in stop_words:\n",
    "        tokens_without_stopwords.append(token)"
   ]
  },
  {
   "cell_type": "code",
   "execution_count": 338,
   "id": "3e96adfc",
   "metadata": {},
   "outputs": [
    {
     "data": {
      "text/html": [
       "<div>\n",
       "<style scoped>\n",
       "    .dataframe tbody tr th:only-of-type {\n",
       "        vertical-align: middle;\n",
       "    }\n",
       "\n",
       "    .dataframe tbody tr th {\n",
       "        vertical-align: top;\n",
       "    }\n",
       "\n",
       "    .dataframe thead th {\n",
       "        text-align: right;\n",
       "    }\n",
       "</style>\n",
       "<table border=\"1\" class=\"dataframe\">\n",
       "  <thead>\n",
       "    <tr style=\"text-align: right;\">\n",
       "      <th></th>\n",
       "      <th>With stopwords</th>\n",
       "      <th>Without stopwords</th>\n",
       "    </tr>\n",
       "  </thead>\n",
       "  <tbody>\n",
       "    <tr>\n",
       "      <th>Number of tokens</th>\n",
       "      <td>925</td>\n",
       "      <td>515</td>\n",
       "    </tr>\n",
       "  </tbody>\n",
       "</table>\n",
       "</div>"
      ],
      "text/plain": [
       "                  With stopwords  Without stopwords\n",
       "Number of tokens             925                515"
      ]
     },
     "metadata": {},
     "output_type": "display_data"
    }
   ],
   "source": [
    "index = ['Number of tokens']\n",
    "\n",
    "df_num_words = pd.DataFrame({}, index=index)\n",
    "\n",
    "df_num_words['With stopwords'] = len(tokens)\n",
    "df_num_words['Without stopwords'] = len(tokens_without_stopwords)\n",
    "display(df_num_words)"
   ]
  },
  {
   "cell_type": "markdown",
   "id": "39d6046a",
   "metadata": {},
   "source": [
    "Como vemos, el número de tokens se reduce considerablemente, casi a la mitad, al eliminar las \"stopwords\"."
   ]
  },
  {
   "cell_type": "markdown",
   "id": "44709051",
   "metadata": {},
   "source": [
    "Volvemos a comprobar cuáles son las palabras más frecuentes"
   ]
  },
  {
   "cell_type": "code",
   "execution_count": 193,
   "id": "f6403b5f",
   "metadata": {},
   "outputs": [
    {
     "name": "stdout",
     "output_type": "stream",
     "text": [
      "[('magpies', 14), ('birds', 9), ('tracker', 8), ('social', 7), ('data', 7), ('behaviour', 6), ('group', 6), ('one', 6), ('harness', 6), ('problem', 6), ('devices', 5), ('study', 5), ('new', 5), ('could', 5), ('pilot', 4), ('help', 4), ('remove', 4), ('helping', 4), ('also', 4), ('tracking', 3)]\n"
     ]
    }
   ],
   "source": [
    "fdist = FreqDist(tokens_without_stopwords)\n",
    "print(fdist.most_common(20))"
   ]
  },
  {
   "cell_type": "code",
   "execution_count": 195,
   "id": "370825c0",
   "metadata": {},
   "outputs": [
    {
     "data": {
      "image/png": "[encoded data removed]",
      "text/plain": [
       "<Figure size 432x288 with 1 Axes>"
      ]
     },
     "metadata": {
      "needs_background": "light"
     },
     "output_type": "display_data"
    },
    {
     "data": {
      "text/plain": [
       "<Figure size 2160x7200 with 0 Axes>"
      ]
     },
     "metadata": {},
     "output_type": "display_data"
    }
   ],
   "source": [
    "fdist.plot(40,cumulative=False)\n",
    "plt.figure(figsize=(30,100))\n",
    "plt.show()"
   ]
  },
  {
   "cell_type": "markdown",
   "id": "a5a36948",
   "metadata": {},
   "source": [
    "Estas palabras nos aportan una visión mucho más concreta. Podemos deducir que el texto trata sobre aves, y de urracas en especial, y del estudio de su comportamiento.\n",
    "\n",
    "Además, la frecuencia de las palabras está mucho más equilibrada (de 14 a 1 ocurrencias) que cuando estábamos considerando las \"stopwords\" (de 45 a 1 ocurrencias)."
   ]
  },
  {
   "cell_type": "markdown",
   "id": "019eebe6",
   "metadata": {},
   "source": [
    "A continuación realizo una normalización del léxico a través de dos técnicas, stemming y lemmatizing, para tratar como iguales las palabras con la misma raíz semántica."
   ]
  },
  {
   "cell_type": "markdown",
   "id": "c56655f9",
   "metadata": {},
   "source": [
    "**Stemming**"
   ]
  },
  {
   "cell_type": "code",
   "execution_count": 215,
   "id": "0eab2233",
   "metadata": {},
   "outputs": [
    {
     "name": "stdout",
     "output_type": "stream",
     "text": [
      "['attach', 'tini', 'backpacklik', 'track', 'devic', 'five', 'australian', 'magpi', 'pilot', 'studi', 'expect', 'discov', 'entir', 'new', 'social', 'behaviour', 'rare', 'seen', 'bird', 'goal', 'learn', 'movement', 'social', 'dynam', 'highli', 'intellig', 'bird', 'test', 'new', 'durabl', 'reusabl', 'devic', 'instead', 'bird', 'outsmart', 'us', 'new', 'research', 'paper', 'explain', 'magpi', 'began', 'show', 'evid', 'cooper', 'rescu', 'behaviour', 'help', 'remov', 'tracker']\n"
     ]
    }
   ],
   "source": [
    "from nltk.stem import PorterStemmer\n",
    "from nltk.tokenize import sent_tokenize, word_tokenize\n",
    "\n",
    "stemmer = PorterStemmer()\n",
    "\n",
    "stemmed_words=[]\n",
    "for token in tokens_without_stopwords:\n",
    "    stemmed_words.append(stemmer.stem(token))\n",
    "    \n",
    "print(stemmed_words[:50])"
   ]
  },
  {
   "cell_type": "markdown",
   "id": "a3be0141",
   "metadata": {},
   "source": [
    "**Lemmatizing**"
   ]
  },
  {
   "cell_type": "code",
   "execution_count": 214,
   "id": "81e01b23",
   "metadata": {},
   "outputs": [
    {
     "name": "stdout",
     "output_type": "stream",
     "text": [
      "['attached', 'tiny', 'backpacklike', 'tracking', 'device', 'five', 'australian', 'magpie', 'pilot', 'study', 'expect', 'discover', 'entirely', 'new', 'social', 'behaviour', 'rarely', 'seen', 'bird', 'goal', 'learn', 'movement', 'social', 'dynamic', 'highly', 'intelligent', 'bird', 'test', 'new', 'durable', 'reusable', 'device', 'instead', 'bird', 'outsmarted', 'u', 'new', 'research', 'paper', 'explains', 'magpie', 'began', 'showing', 'evidence', 'cooperative', 'rescue', 'behaviour', 'help', 'remove', 'tracker']\n"
     ]
    }
   ],
   "source": [
    "from nltk.stem.wordnet import WordNetLemmatizer\n",
    "\n",
    "lemmatizer = WordNetLemmatizer()\n",
    "\n",
    "lemmatized_words=[]\n",
    "for token in tokens_without_stopwords:\n",
    "    lemmatized_words.append(lemmatizer.lemmatize(token))\n",
    "\n",
    "print(lemmatized_words[:50])"
   ]
  },
  {
   "cell_type": "markdown",
   "id": "f8c10502",
   "metadata": {},
   "source": [
    "El stemmer y el lemmatizer tratan las palabras de forma diferente. El stemmer no tiene en cuenta el contexto y suprime los sufijos o morfemas de forma generalista; el lemmatizer, en cambio, sí que tiene en cuenta el contexto y convierte las palabras al lema o palabra de la que derivan."
   ]
  },
  {
   "cell_type": "markdown",
   "id": "438b3876",
   "metadata": {},
   "source": [
    "Compruebo cuáles son los resultados de aplicar cada normalización léxica "
   ]
  },
  {
   "cell_type": "code",
   "execution_count": 216,
   "id": "8cfd547d",
   "metadata": {},
   "outputs": [
    {
     "data": {
      "text/html": [
       "<div>\n",
       "<style scoped>\n",
       "    .dataframe tbody tr th:only-of-type {\n",
       "        vertical-align: middle;\n",
       "    }\n",
       "\n",
       "    .dataframe tbody tr th {\n",
       "        vertical-align: top;\n",
       "    }\n",
       "\n",
       "    .dataframe thead th {\n",
       "        text-align: right;\n",
       "    }\n",
       "</style>\n",
       "<table border=\"1\" class=\"dataframe\">\n",
       "  <thead>\n",
       "    <tr style=\"text-align: right;\">\n",
       "      <th></th>\n",
       "      <th>Before normalization</th>\n",
       "      <th>Stemmer</th>\n",
       "      <th>Lemmatizer</th>\n",
       "    </tr>\n",
       "  </thead>\n",
       "  <tbody>\n",
       "    <tr>\n",
       "      <th>Number of words</th>\n",
       "      <td>341</td>\n",
       "      <td>301</td>\n",
       "      <td>332</td>\n",
       "    </tr>\n",
       "  </tbody>\n",
       "</table>\n",
       "</div>"
      ],
      "text/plain": [
       "                 Before normalization  Stemmer  Lemmatizer\n",
       "Number of words                   341      301         332"
      ]
     },
     "metadata": {},
     "output_type": "display_data"
    }
   ],
   "source": [
    "index = ['Number of words']\n",
    "\n",
    "df_num_words = pd.DataFrame({}, index=index)\n",
    "\n",
    "df_num_words['Before normalization'] = len(set(tokens_without_stopwords))\n",
    "df_num_words['Stemmer'] = len(set(stemmed_words))\n",
    "df_num_words['Lemmatizer'] = len(set(lemmatized_words))\n",
    "\n",
    "display(df_num_words)"
   ]
  },
  {
   "cell_type": "markdown",
   "id": "d08dbab0",
   "metadata": {},
   "source": [
    "En este caso, el stemmer aplica una reducción mayor al total de las palabras. El lemmatizer, en cambio, es más sensible a diferencias de contexto y significado y establece clasificaciones más precisas."
   ]
  },
  {
   "cell_type": "markdown",
   "id": "e763a64f",
   "metadata": {},
   "source": [
    "## Exercici 4\n",
    "Realitza sentiment analysis al teu conjunt de dades."
   ]
  },
  {
   "cell_type": "code",
   "execution_count": 326,
   "id": "0960abce",
   "metadata": {},
   "outputs": [
    {
     "data": {
      "text/html": [
       "<div>\n",
       "<style scoped>\n",
       "    .dataframe tbody tr th:only-of-type {\n",
       "        vertical-align: middle;\n",
       "    }\n",
       "\n",
       "    .dataframe tbody tr th {\n",
       "        vertical-align: top;\n",
       "    }\n",
       "\n",
       "    .dataframe thead th {\n",
       "        text-align: right;\n",
       "    }\n",
       "</style>\n",
       "<table border=\"1\" class=\"dataframe\">\n",
       "  <thead>\n",
       "    <tr style=\"text-align: right;\">\n",
       "      <th></th>\n",
       "      <th>0</th>\n",
       "      <th>1467810369</th>\n",
       "      <th>Mon Apr 06 22:19:45 PDT 2009</th>\n",
       "      <th>NO_QUERY</th>\n",
       "      <th>_TheSpecialOne_</th>\n",
       "      <th>@switchfoot http://twitpic.com/2y1zl - Awww, that's a bummer.  You shoulda got David Carr of Third Day to do it. ;D</th>\n",
       "    </tr>\n",
       "  </thead>\n",
       "  <tbody>\n",
       "    <tr>\n",
       "      <th>1459036</th>\n",
       "      <td>4</td>\n",
       "      <td>2063718702</td>\n",
       "      <td>Sun Jun 07 03:48:23 PDT 2009</td>\n",
       "      <td>NO_QUERY</td>\n",
       "      <td>aileenvaldez</td>\n",
       "      <td>Just waiting for the Day  When im Sitting on t...</td>\n",
       "    </tr>\n",
       "    <tr>\n",
       "      <th>981663</th>\n",
       "      <td>4</td>\n",
       "      <td>1834132991</td>\n",
       "      <td>Mon May 18 01:45:20 PDT 2009</td>\n",
       "      <td>NO_QUERY</td>\n",
       "      <td>lassirra</td>\n",
       "      <td>@Medros Np  I just remembered seeing the post ...</td>\n",
       "    </tr>\n",
       "    <tr>\n",
       "      <th>867115</th>\n",
       "      <td>4</td>\n",
       "      <td>1677720634</td>\n",
       "      <td>Sat May 02 03:37:08 PDT 2009</td>\n",
       "      <td>NO_QUERY</td>\n",
       "      <td>Imatoughcookie</td>\n",
       "      <td>@captainspecial HI CONRAD!!!! How are you LOVI...</td>\n",
       "    </tr>\n",
       "    <tr>\n",
       "      <th>21284</th>\n",
       "      <td>0</td>\n",
       "      <td>1557250652</td>\n",
       "      <td>Sun Apr 19 02:55:50 PDT 2009</td>\n",
       "      <td>NO_QUERY</td>\n",
       "      <td>gradynotgrady</td>\n",
       "      <td>@jongulergrey IRL mod privs revoked</td>\n",
       "    </tr>\n",
       "    <tr>\n",
       "      <th>1591316</th>\n",
       "      <td>4</td>\n",
       "      <td>2191545866</td>\n",
       "      <td>Tue Jun 16 05:30:02 PDT 2009</td>\n",
       "      <td>NO_QUERY</td>\n",
       "      <td>FoTizzle</td>\n",
       "      <td>@JessAttack I gotz it  even tho we both no i c...</td>\n",
       "    </tr>\n",
       "    <tr>\n",
       "      <th>...</th>\n",
       "      <td>...</td>\n",
       "      <td>...</td>\n",
       "      <td>...</td>\n",
       "      <td>...</td>\n",
       "      <td>...</td>\n",
       "      <td>...</td>\n",
       "    </tr>\n",
       "    <tr>\n",
       "      <th>441864</th>\n",
       "      <td>0</td>\n",
       "      <td>2067123159</td>\n",
       "      <td>Sun Jun 07 11:47:20 PDT 2009</td>\n",
       "      <td>NO_QUERY</td>\n",
       "      <td>nikosi</td>\n",
       "      <td>awwww...i forgot i don't have car</td>\n",
       "    </tr>\n",
       "    <tr>\n",
       "      <th>357133</th>\n",
       "      <td>0</td>\n",
       "      <td>2044565865</td>\n",
       "      <td>Fri Jun 05 09:32:26 PDT 2009</td>\n",
       "      <td>NO_QUERY</td>\n",
       "      <td>superchrisss</td>\n",
       "      <td>@Pixleh Suck  You must of got the collectors, ...</td>\n",
       "    </tr>\n",
       "    <tr>\n",
       "      <th>113692</th>\n",
       "      <td>0</td>\n",
       "      <td>1825934043</td>\n",
       "      <td>Sun May 17 07:15:43 PDT 2009</td>\n",
       "      <td>NO_QUERY</td>\n",
       "      <td>Vivhy</td>\n",
       "      <td>It's sunday, nothing good on TV, no internet a...</td>\n",
       "    </tr>\n",
       "    <tr>\n",
       "      <th>1155422</th>\n",
       "      <td>4</td>\n",
       "      <td>1979007626</td>\n",
       "      <td>Sun May 31 01:16:02 PDT 2009</td>\n",
       "      <td>NO_QUERY</td>\n",
       "      <td>rbuerckner</td>\n",
       "      <td>@brookehaskins Oh... I sent you an email on fa...</td>\n",
       "    </tr>\n",
       "    <tr>\n",
       "      <th>628672</th>\n",
       "      <td>0</td>\n",
       "      <td>2231381160</td>\n",
       "      <td>Thu Jun 18 18:27:58 PDT 2009</td>\n",
       "      <td>NO_QUERY</td>\n",
       "      <td>eilo18</td>\n",
       "      <td>@xDorianGrayx hey man, sorry about this horrib...</td>\n",
       "    </tr>\n",
       "  </tbody>\n",
       "</table>\n",
       "<p>1000 rows × 6 columns</p>\n",
       "</div>"
      ],
      "text/plain": [
       "         0  1467810369  Mon Apr 06 22:19:45 PDT 2009  NO_QUERY  \\\n",
       "1459036  4  2063718702  Sun Jun 07 03:48:23 PDT 2009  NO_QUERY   \n",
       "981663   4  1834132991  Mon May 18 01:45:20 PDT 2009  NO_QUERY   \n",
       "867115   4  1677720634  Sat May 02 03:37:08 PDT 2009  NO_QUERY   \n",
       "21284    0  1557250652  Sun Apr 19 02:55:50 PDT 2009  NO_QUERY   \n",
       "1591316  4  2191545866  Tue Jun 16 05:30:02 PDT 2009  NO_QUERY   \n",
       "...     ..         ...                           ...       ...   \n",
       "441864   0  2067123159  Sun Jun 07 11:47:20 PDT 2009  NO_QUERY   \n",
       "357133   0  2044565865  Fri Jun 05 09:32:26 PDT 2009  NO_QUERY   \n",
       "113692   0  1825934043  Sun May 17 07:15:43 PDT 2009  NO_QUERY   \n",
       "1155422  4  1979007626  Sun May 31 01:16:02 PDT 2009  NO_QUERY   \n",
       "628672   0  2231381160  Thu Jun 18 18:27:58 PDT 2009  NO_QUERY   \n",
       "\n",
       "        _TheSpecialOne_  \\\n",
       "1459036    aileenvaldez   \n",
       "981663         lassirra   \n",
       "867115   Imatoughcookie   \n",
       "21284     gradynotgrady   \n",
       "1591316        FoTizzle   \n",
       "...                 ...   \n",
       "441864           nikosi   \n",
       "357133     superchrisss   \n",
       "113692            Vivhy   \n",
       "1155422      rbuerckner   \n",
       "628672           eilo18   \n",
       "\n",
       "        @switchfoot http://twitpic.com/2y1zl - Awww, that's a bummer.  You shoulda got David Carr of Third Day to do it. ;D  \n",
       "1459036  Just waiting for the Day  When im Sitting on t...                                                                   \n",
       "981663   @Medros Np  I just remembered seeing the post ...                                                                   \n",
       "867115   @captainspecial HI CONRAD!!!! How are you LOVI...                                                                   \n",
       "21284                 @jongulergrey IRL mod privs revoked                                                                    \n",
       "1591316  @JessAttack I gotz it  even tho we both no i c...                                                                   \n",
       "...                                                    ...                                                                   \n",
       "441864                  awwww...i forgot i don't have car                                                                    \n",
       "357133   @Pixleh Suck  You must of got the collectors, ...                                                                   \n",
       "113692   It's sunday, nothing good on TV, no internet a...                                                                   \n",
       "1155422  @brookehaskins Oh... I sent you an email on fa...                                                                   \n",
       "628672   @xDorianGrayx hey man, sorry about this horrib...                                                                   \n",
       "\n",
       "[1000 rows x 6 columns]"
      ]
     },
     "metadata": {},
     "output_type": "display_data"
    }
   ],
   "source": [
    "df_tweets = pd.read_csv('tweets.csv', encoding='latin1')\n",
    "df_tweets = df_tweets.sample(1000, random_state=27)\n",
    "display(df_tweets)"
   ]
  },
  {
   "cell_type": "markdown",
   "id": "16f485a1",
   "metadata": {},
   "source": [
    "Primero, tengo que editar la estructura del dataframe para incluir el nombre de las columnas sin perder la información del primer registro."
   ]
  },
  {
   "cell_type": "code",
   "execution_count": 327,
   "id": "fb775f34",
   "metadata": {},
   "outputs": [
    {
     "name": "stdout",
     "output_type": "stream",
     "text": [
      "<class 'str'>\n",
      "<class 'str'>\n",
      "<class 'str'>\n",
      "<class 'str'>\n",
      "<class 'str'>\n",
      "<class 'str'>\n"
     ]
    },
    {
     "data": {
      "text/html": [
       "<div>\n",
       "<style scoped>\n",
       "    .dataframe tbody tr th:only-of-type {\n",
       "        vertical-align: middle;\n",
       "    }\n",
       "\n",
       "    .dataframe tbody tr th {\n",
       "        vertical-align: top;\n",
       "    }\n",
       "\n",
       "    .dataframe thead th {\n",
       "        text-align: right;\n",
       "    }\n",
       "</style>\n",
       "<table border=\"1\" class=\"dataframe\">\n",
       "  <thead>\n",
       "    <tr style=\"text-align: right;\">\n",
       "      <th></th>\n",
       "      <th>sentiment</th>\n",
       "      <th>id</th>\n",
       "      <th>datetime</th>\n",
       "      <th>query</th>\n",
       "      <th>username</th>\n",
       "      <th>text</th>\n",
       "    </tr>\n",
       "  </thead>\n",
       "  <tbody>\n",
       "    <tr>\n",
       "      <th>0</th>\n",
       "      <td>0</td>\n",
       "      <td>1467810369</td>\n",
       "      <td>Mon Apr 06 22:19:45 PDT 2009</td>\n",
       "      <td>NO_QUERY</td>\n",
       "      <td>_TheSpecialOne_</td>\n",
       "      <td>@switchfoot http://twitpic.com/2y1zl - Awww, t...</td>\n",
       "    </tr>\n",
       "  </tbody>\n",
       "</table>\n",
       "</div>"
      ],
      "text/plain": [
       "  sentiment          id                      datetime     query  \\\n",
       "0         0  1467810369  Mon Apr 06 22:19:45 PDT 2009  NO_QUERY   \n",
       "\n",
       "          username                                               text  \n",
       "0  _TheSpecialOne_  @switchfoot http://twitpic.com/2y1zl - Awww, t...  "
      ]
     },
     "metadata": {},
     "output_type": "display_data"
    },
    {
     "data": {
      "text/html": [
       "<div>\n",
       "<style scoped>\n",
       "    .dataframe tbody tr th:only-of-type {\n",
       "        vertical-align: middle;\n",
       "    }\n",
       "\n",
       "    .dataframe tbody tr th {\n",
       "        vertical-align: top;\n",
       "    }\n",
       "\n",
       "    .dataframe thead th {\n",
       "        text-align: right;\n",
       "    }\n",
       "</style>\n",
       "<table border=\"1\" class=\"dataframe\">\n",
       "  <thead>\n",
       "    <tr style=\"text-align: right;\">\n",
       "      <th></th>\n",
       "      <th>sentiment</th>\n",
       "      <th>id</th>\n",
       "      <th>datetime</th>\n",
       "      <th>query</th>\n",
       "      <th>username</th>\n",
       "      <th>text</th>\n",
       "    </tr>\n",
       "  </thead>\n",
       "  <tbody>\n",
       "    <tr>\n",
       "      <th>1459036</th>\n",
       "      <td>4</td>\n",
       "      <td>2063718702</td>\n",
       "      <td>Sun Jun 07 03:48:23 PDT 2009</td>\n",
       "      <td>NO_QUERY</td>\n",
       "      <td>aileenvaldez</td>\n",
       "      <td>Just waiting for the Day  When im Sitting on t...</td>\n",
       "    </tr>\n",
       "    <tr>\n",
       "      <th>981663</th>\n",
       "      <td>4</td>\n",
       "      <td>1834132991</td>\n",
       "      <td>Mon May 18 01:45:20 PDT 2009</td>\n",
       "      <td>NO_QUERY</td>\n",
       "      <td>lassirra</td>\n",
       "      <td>@Medros Np  I just remembered seeing the post ...</td>\n",
       "    </tr>\n",
       "    <tr>\n",
       "      <th>867115</th>\n",
       "      <td>4</td>\n",
       "      <td>1677720634</td>\n",
       "      <td>Sat May 02 03:37:08 PDT 2009</td>\n",
       "      <td>NO_QUERY</td>\n",
       "      <td>Imatoughcookie</td>\n",
       "      <td>@captainspecial HI CONRAD!!!! How are you LOVI...</td>\n",
       "    </tr>\n",
       "    <tr>\n",
       "      <th>21284</th>\n",
       "      <td>0</td>\n",
       "      <td>1557250652</td>\n",
       "      <td>Sun Apr 19 02:55:50 PDT 2009</td>\n",
       "      <td>NO_QUERY</td>\n",
       "      <td>gradynotgrady</td>\n",
       "      <td>@jongulergrey IRL mod privs revoked</td>\n",
       "    </tr>\n",
       "    <tr>\n",
       "      <th>1591316</th>\n",
       "      <td>4</td>\n",
       "      <td>2191545866</td>\n",
       "      <td>Tue Jun 16 05:30:02 PDT 2009</td>\n",
       "      <td>NO_QUERY</td>\n",
       "      <td>FoTizzle</td>\n",
       "      <td>@JessAttack I gotz it  even tho we both no i c...</td>\n",
       "    </tr>\n",
       "    <tr>\n",
       "      <th>...</th>\n",
       "      <td>...</td>\n",
       "      <td>...</td>\n",
       "      <td>...</td>\n",
       "      <td>...</td>\n",
       "      <td>...</td>\n",
       "      <td>...</td>\n",
       "    </tr>\n",
       "    <tr>\n",
       "      <th>357133</th>\n",
       "      <td>0</td>\n",
       "      <td>2044565865</td>\n",
       "      <td>Fri Jun 05 09:32:26 PDT 2009</td>\n",
       "      <td>NO_QUERY</td>\n",
       "      <td>superchrisss</td>\n",
       "      <td>@Pixleh Suck  You must of got the collectors, ...</td>\n",
       "    </tr>\n",
       "    <tr>\n",
       "      <th>113692</th>\n",
       "      <td>0</td>\n",
       "      <td>1825934043</td>\n",
       "      <td>Sun May 17 07:15:43 PDT 2009</td>\n",
       "      <td>NO_QUERY</td>\n",
       "      <td>Vivhy</td>\n",
       "      <td>It's sunday, nothing good on TV, no internet a...</td>\n",
       "    </tr>\n",
       "    <tr>\n",
       "      <th>1155422</th>\n",
       "      <td>4</td>\n",
       "      <td>1979007626</td>\n",
       "      <td>Sun May 31 01:16:02 PDT 2009</td>\n",
       "      <td>NO_QUERY</td>\n",
       "      <td>rbuerckner</td>\n",
       "      <td>@brookehaskins Oh... I sent you an email on fa...</td>\n",
       "    </tr>\n",
       "    <tr>\n",
       "      <th>628672</th>\n",
       "      <td>0</td>\n",
       "      <td>2231381160</td>\n",
       "      <td>Thu Jun 18 18:27:58 PDT 2009</td>\n",
       "      <td>NO_QUERY</td>\n",
       "      <td>eilo18</td>\n",
       "      <td>@xDorianGrayx hey man, sorry about this horrib...</td>\n",
       "    </tr>\n",
       "    <tr>\n",
       "      <th>0</th>\n",
       "      <td>0</td>\n",
       "      <td>1467810369</td>\n",
       "      <td>Mon Apr 06 22:19:45 PDT 2009</td>\n",
       "      <td>NO_QUERY</td>\n",
       "      <td>_TheSpecialOne_</td>\n",
       "      <td>@switchfoot http://twitpic.com/2y1zl - Awww, t...</td>\n",
       "    </tr>\n",
       "  </tbody>\n",
       "</table>\n",
       "<p>1001 rows × 6 columns</p>\n",
       "</div>"
      ],
      "text/plain": [
       "        sentiment          id                      datetime     query  \\\n",
       "1459036         4  2063718702  Sun Jun 07 03:48:23 PDT 2009  NO_QUERY   \n",
       "981663          4  1834132991  Mon May 18 01:45:20 PDT 2009  NO_QUERY   \n",
       "867115          4  1677720634  Sat May 02 03:37:08 PDT 2009  NO_QUERY   \n",
       "21284           0  1557250652  Sun Apr 19 02:55:50 PDT 2009  NO_QUERY   \n",
       "1591316         4  2191545866  Tue Jun 16 05:30:02 PDT 2009  NO_QUERY   \n",
       "...           ...         ...                           ...       ...   \n",
       "357133          0  2044565865  Fri Jun 05 09:32:26 PDT 2009  NO_QUERY   \n",
       "113692          0  1825934043  Sun May 17 07:15:43 PDT 2009  NO_QUERY   \n",
       "1155422         4  1979007626  Sun May 31 01:16:02 PDT 2009  NO_QUERY   \n",
       "628672          0  2231381160  Thu Jun 18 18:27:58 PDT 2009  NO_QUERY   \n",
       "0               0  1467810369  Mon Apr 06 22:19:45 PDT 2009  NO_QUERY   \n",
       "\n",
       "                username                                               text  \n",
       "1459036     aileenvaldez  Just waiting for the Day  When im Sitting on t...  \n",
       "981663          lassirra  @Medros Np  I just remembered seeing the post ...  \n",
       "867115    Imatoughcookie  @captainspecial HI CONRAD!!!! How are you LOVI...  \n",
       "21284      gradynotgrady               @jongulergrey IRL mod privs revoked   \n",
       "1591316         FoTizzle  @JessAttack I gotz it  even tho we both no i c...  \n",
       "...                  ...                                                ...  \n",
       "357133      superchrisss  @Pixleh Suck  You must of got the collectors, ...  \n",
       "113692             Vivhy  It's sunday, nothing good on TV, no internet a...  \n",
       "1155422       rbuerckner  @brookehaskins Oh... I sent you an email on fa...  \n",
       "628672            eilo18  @xDorianGrayx hey man, sorry about this horrib...  \n",
       "0        _TheSpecialOne_  @switchfoot http://twitpic.com/2y1zl - Awww, t...  \n",
       "\n",
       "[1001 rows x 6 columns]"
      ]
     },
     "metadata": {},
     "output_type": "display_data"
    }
   ],
   "source": [
    "cols = []\n",
    "\n",
    "for col in df_tweets.columns:\n",
    "    cols.append(col)\n",
    "\n",
    "df_tweets = df_tweets.rename({\n",
    "    df_tweets.columns[0]: 'sentiment', \n",
    "    df_tweets.columns[1]: 'id', \n",
    "    df_tweets.columns[2]: 'datetime', \n",
    "    df_tweets.columns[3]: 'query', \n",
    "    df_tweets.columns[4]: 'username', \n",
    "    df_tweets.columns[5]: 'text'}, axis=1)\n",
    "\n",
    "\n",
    "df_aux = pd.DataFrame({})\n",
    "for i in range(len(cols)):\n",
    "    df_aux[df_tweets.columns[i]] = int([cols[i]])\n",
    "\n",
    "display(df_aux)\n",
    "\n",
    "df_tweets = pd.concat([df_tweets, df_aux], join=\"inner\")\n",
    "display(df_tweets)"
   ]
  },
  {
   "cell_type": "code",
   "execution_count": 328,
   "id": "7941d2e7",
   "metadata": {},
   "outputs": [
    {
     "name": "stdout",
     "output_type": "stream",
     "text": [
      "<class 'pandas.core.frame.DataFrame'>\n",
      "Int64Index: 1001 entries, 1459036 to 0\n",
      "Data columns (total 6 columns):\n",
      " #   Column     Non-Null Count  Dtype \n",
      "---  ------     --------------  ----- \n",
      " 0   sentiment  1001 non-null   object\n",
      " 1   id         1001 non-null   object\n",
      " 2   datetime   1001 non-null   object\n",
      " 3   query      1001 non-null   object\n",
      " 4   username   1001 non-null   object\n",
      " 5   text       1001 non-null   object\n",
      "dtypes: object(6)\n",
      "memory usage: 54.7+ KB\n"
     ]
    }
   ],
   "source": [
    "df_tweets.info()"
   ]
  },
  {
   "cell_type": "code",
   "execution_count": null,
   "id": "2202ae36",
   "metadata": {},
   "outputs": [],
   "source": [
    "df_tweets[\"sentiment\"] = pd.to_numeric(df_tweets[\"sentiment\"])"
   ]
  },
  {
   "cell_type": "markdown",
   "id": "b1ccb7a4",
   "metadata": {},
   "source": [
    "Elimino las columnas que no aportan nada al análisis. Solo necesito los textos y la valoración."
   ]
  },
  {
   "cell_type": "code",
   "execution_count": 329,
   "id": "25c60d86",
   "metadata": {},
   "outputs": [
    {
     "data": {
      "text/plain": [
       "Index(['sentiment', 'text'], dtype='object')"
      ]
     },
     "metadata": {},
     "output_type": "display_data"
    }
   ],
   "source": [
    "df_tweets = df_tweets.drop(['id', 'datetime', 'query', 'username'], axis=1)\n",
    "display(df_tweets.columns)"
   ]
  },
  {
   "cell_type": "markdown",
   "id": "1bbbc8f2",
   "metadata": {},
   "source": [
    "Compruebo la existencia de valores nulos"
   ]
  },
  {
   "cell_type": "code",
   "execution_count": 330,
   "id": "c7fd0c2f",
   "metadata": {},
   "outputs": [
    {
     "data": {
      "text/plain": [
       "False"
      ]
     },
     "execution_count": 330,
     "metadata": {},
     "output_type": "execute_result"
    }
   ],
   "source": [
    "df_tweets.isnull().values.any()"
   ]
  },
  {
   "cell_type": "markdown",
   "id": "bf6b8652",
   "metadata": {},
   "source": [
    "Reviso que los tipos de valoración estén equilibrados en el dataset"
   ]
  },
  {
   "cell_type": "code",
   "execution_count": 333,
   "id": "fc801299",
   "metadata": {},
   "outputs": [
    {
     "data": {
      "text/plain": [
       "4    506\n",
       "0    495\n",
       "Name: sentiment, dtype: int64"
      ]
     },
     "execution_count": 333,
     "metadata": {},
     "output_type": "execute_result"
    }
   ],
   "source": [
    "df_tweets['sentiment'].value_counts()"
   ]
  },
  {
   "cell_type": "code",
   "execution_count": 335,
   "id": "69c5c98e",
   "metadata": {},
   "outputs": [
    {
     "data": {
      "image/png": "[encoded data removed]",
      "text/plain": [
       "<Figure size 432x288 with 1 Axes>"
      ]
     },
     "metadata": {
      "needs_background": "light"
     },
     "output_type": "display_data"
    }
   ],
   "source": [
    "sentiment_count = df_tweets.groupby('sentiment').count()\n",
    "\n",
    "plt.bar(sentiment_count.index.values, sentiment_count['text'])\n",
    "plt.xlabel('Tweets\\' Sentiments')\n",
    "plt.ylabel('Number of Tweets')\n",
    "plt.show()"
   ]
  },
  {
   "cell_type": "markdown",
   "id": "4aea3d2d",
   "metadata": {},
   "source": [
    "Las valoraciones en este dataset están muy polarizadas. En una escala de 0 a 4, los mensajes solo están valorados con las puntuaciones más extremas. De todas formas, el dataset sigue siendo útil, ya que podemos interpretar la clasificación como positivo y negativo."
   ]
  },
  {
   "cell_type": "markdown",
   "id": "ca87a795",
   "metadata": {},
   "source": [
    "- Eliminar menciones\n",
    "- Eliminar números\n",
    "- Eliminar emoticonos\n",
    "- Eliminar signos de puntuación\n",
    "- Eliminar stop words\n",
    "- Lemmatizing"
   ]
  },
  {
   "cell_type": "markdown",
   "id": "1ec284ef",
   "metadata": {},
   "source": [
    "**Bag of words**"
   ]
  },
  {
   "cell_type": "markdown",
   "id": "faf7d58d",
   "metadata": {},
   "source": [
    "**TF-IDF**"
   ]
  },
  {
   "cell_type": "code",
   "execution_count": null,
   "id": "2f4e8314",
   "metadata": {},
   "outputs": [],
   "source": []
  }
 ],
 "metadata": {
  "kernelspec": {
   "display_name": "Python 3 (ipykernel)",
   "language": "python",
   "name": "python3"
  },
  "language_info": {
   "codemirror_mode": {
    "name": "ipython",
    "version": 3
   },
   "file_extension": ".py",
   "mimetype": "text/x-python",
   "name": "python",
   "nbconvert_exporter": "python",
   "pygments_lexer": "ipython3",
   "version": "3.9.7"
  }
 },
 "nbformat": 4,
 "nbformat_minor": 5
}
